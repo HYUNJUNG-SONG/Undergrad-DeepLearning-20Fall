{
  "nbformat": 4,
  "nbformat_minor": 0,
  "metadata": {
    "colab": {
      "name": "01_linear_regression_using_tensorflow.ipynb",
      "provenance": []
    },
    "kernelspec": {
      "name": "python3",
      "display_name": "Python 3"
    }
  },
  "cells": [
    {
      "cell_type": "markdown",
      "metadata": {
        "id": "6ffngLFXS1LU"
      },
      "source": [
        "라이브러리 Import 하기"
      ]
    },
    {
      "cell_type": "code",
      "metadata": {
        "id": "7Q1VL7exStpv"
      },
      "source": [
        "#import tensorflow as tf\n",
        "import tensorflow.compat.v1 as tf\n",
        "tf.disable_v2_behavior()\n",
        "\n",
        "import numpy as np\n",
        "import matplotlib.pyplot as plt"
      ],
      "execution_count": 2,
      "outputs": []
    },
    {
      "cell_type": "markdown",
      "metadata": {
        "id": "n5idwD-yS5uh"
      },
      "source": [
        "X and Y data"
      ]
    },
    {
      "cell_type": "code",
      "metadata": {
        "id": "DkEvTI_yS3aU"
      },
      "source": [
        "x_train = [1, 2, 3]\n",
        "\n",
        "y_train = [2+0.1, 4-0.3, 6+0.15] # 약간의 noise 추가\n",
        "\n",
        "# 다음의 것들도 해보시오\n",
        "#y_train = [2, 4, 6] # 그냥 x_train 에 2배 곱해서 생성\n",
        "#y_train = [3, 5, 7]"
      ],
      "execution_count": 3,
      "outputs": []
    },
    {
      "cell_type": "markdown",
      "metadata": {
        "id": "TmfF7gTJS7I0"
      },
      "source": [
        "Initialization"
      ]
    },
    {
      "cell_type": "code",
      "metadata": {
        "id": "MHcfq7aJTDmZ"
      },
      "source": [
        "#W = tf.Variable(tf.random_normal([1]), name='weight')\n",
        "#b = tf.Variable(tf.random_normal([1]), name='bias')\n",
        "w0 = 7.0;\n",
        "b0 = 5.0;\n",
        "\n",
        "W = tf.Variable(w0*tf.ones([1]), name='weight')\n",
        "b = tf.Variable(b0*tf.ones([1]), name='bias')"
      ],
      "execution_count": 4,
      "outputs": []
    },
    {
      "cell_type": "markdown",
      "metadata": {
        "id": "wpp6mpWSTGR_"
      },
      "source": [
        "Our hypothesis XW+b"
      ]
    },
    {
      "cell_type": "code",
      "metadata": {
        "id": "N6tzKg6bTD5r"
      },
      "source": [
        "hypothesis = x_train * W + b"
      ],
      "execution_count": 5,
      "outputs": []
    },
    {
      "cell_type": "markdown",
      "metadata": {
        "id": "krKyyQrgTIhH"
      },
      "source": [
        "cost/loss function 정의하기\n",
        "\n",
        "loss of one training example :$$loss = \\mathcal{L}(\\hat{y}, y) = (\\hat y^{(i)} - y^{(i)})^2 \\tag{1}$$"
      ]
    },
    {
      "cell_type": "code",
      "metadata": {
        "id": "q6opJkWSTIIw"
      },
      "source": [
        "loss = tf.reduce_mean(tf.square(hypothesis - y_train))"
      ],
      "execution_count": 6,
      "outputs": []
    },
    {
      "cell_type": "markdown",
      "metadata": {
        "id": "9MBf613cTNtv"
      },
      "source": [
        "Optimizer"
      ]
    },
    {
      "cell_type": "code",
      "metadata": {
        "id": "n9Y7xqwZTMkl"
      },
      "source": [
        "optimizer = tf.train.GradientDescentOptimizer(learning_rate=0.01)\n",
        "train = optimizer.minimize(loss)"
      ],
      "execution_count": 7,
      "outputs": []
    },
    {
      "cell_type": "markdown",
      "metadata": {
        "id": "u7jNHnO7TQJ_"
      },
      "source": [
        "Launch the graph in a session"
      ]
    },
    {
      "cell_type": "code",
      "metadata": {
        "id": "aBt-BNPETPFw"
      },
      "source": [
        "sess = tf.Session()"
      ],
      "execution_count": 8,
      "outputs": []
    },
    {
      "cell_type": "markdown",
      "metadata": {
        "id": "mVHexjKnTTwb"
      },
      "source": [
        "Initializes global variables in the graph."
      ]
    },
    {
      "cell_type": "code",
      "metadata": {
        "id": "JA_I-y1mTRhR"
      },
      "source": [
        "sess.run(tf.global_variables_initializer())"
      ],
      "execution_count": 9,
      "outputs": []
    },
    {
      "cell_type": "code",
      "metadata": {
        "colab": {
          "base_uri": "https://localhost:8080/"
        },
        "id": "Ssx722ldTVAH",
        "outputId": "e630eadd-a331-4b6e-8da3-260be7903805"
      },
      "source": [
        "nb_epoch = 2001\n",
        "\n",
        "for step in range(nb_epoch):\n",
        "    sess.run(train)\n",
        "    \n",
        "    if step % 200 == 0: # 200번마다\n",
        "        w1 = sess.run(W)[0] # 기울기\n",
        "        b1 = sess.run(b)[0] # bias\n",
        "        print(step, sess.run(loss), w1, b1)"
      ],
      "execution_count": 10,
      "outputs": [
        {
          "output_type": "stream",
          "text": [
            "0 191.49957 6.333 4.6996665\n",
            "200 0.35716426 1.3710524 1.41991\n",
            "400 0.16119462 1.6209003 0.8519472\n",
            "600 0.08636397 1.7752908 0.5009811\n",
            "800 0.057789873 1.870695 0.2841049\n",
            "1000 0.046878874 1.9296489 0.15008868\n",
            "1200 0.042712513 1.966079 0.06727501\n",
            "1400 0.041121617 1.9885904 0.016101157\n",
            "1600 0.040514123 2.0025008 -0.015521015\n",
            "1800 0.040282175 2.011097 -0.035061836\n",
            "2000 0.0401936 2.016409 -0.047137048\n"
          ],
          "name": "stdout"
        }
      ]
    },
    {
      "cell_type": "markdown",
      "metadata": {
        "id": "u7JOScl3TXt5"
      },
      "source": [
        "학습완료"
      ]
    },
    {
      "cell_type": "code",
      "metadata": {
        "id": "3IY4xg_sTWTi"
      },
      "source": [
        "w1 = sess.run(W)[0] # 기울기\n",
        "b1 = sess.run(b)[0] # bias"
      ],
      "execution_count": 11,
      "outputs": []
    },
    {
      "cell_type": "markdown",
      "metadata": {
        "id": "13nFhDA6TaRr"
      },
      "source": [
        "출력해보기"
      ]
    },
    {
      "cell_type": "code",
      "metadata": {
        "colab": {
          "base_uri": "https://localhost:8080/"
        },
        "id": "rqeWHXmwTZVy",
        "outputId": "c285d1b1-122e-4de7-8f22-645058cba885"
      },
      "source": [
        "print(w1, b1)\n",
        "\n",
        "str1 = 'y = ' + str(w1) +'x + ' + str(b1)\n",
        "print(str1)"
      ],
      "execution_count": 12,
      "outputs": [
        {
          "output_type": "stream",
          "text": [
            "2.016409 -0.047137048\n",
            "y = 2.016409x + -0.047137048\n"
          ],
          "name": "stdout"
        }
      ]
    },
    {
      "cell_type": "code",
      "metadata": {
        "id": "mirfMrK4Tbo8",
        "outputId": "7533666d-0e43-4a93-eb94-fb53c04eaaa2",
        "colab": {
          "base_uri": "https://localhost:8080/",
          "height": 299
        }
      },
      "source": [
        "plt.figure(figsize=(6,4)) # figsize를 바꾸어보세요\n",
        "plt.plot(x_train, y_train,'o') #train data 그리기\n",
        "\n",
        "# 직선 그래프를 그리기 위한 코드\n",
        "# 그래프의 x좌표를 일정 간격으로 설정함\n",
        "x1 = np.linspace(np.min(x_train)-1, np.max(x_train)+1)\n",
        "y1 = w1*x1 + b1\n",
        "plt.plot(x1, y1)\n",
        "\n",
        "plt.grid() # 격자\n",
        "#plt.axis((np.min(x_train) - 1, np.max(x_train) + 1, np.min(y_train) - 1, np.max(y_train) + 1))\n",
        "plt.title(str1)"
      ],
      "execution_count": 13,
      "outputs": [
        {
          "output_type": "execute_result",
          "data": {
            "text/plain": [
              "Text(0.5, 1.0, 'y = 2.016409x + -0.047137048')"
            ]
          },
          "metadata": {
            "tags": []
          },
          "execution_count": 13
        },
        {
          "output_type": "display_data",
          "data": {
            "image/png": "[encoded data removed]",
            "text/plain": [
              "<Figure size 432x288 with 1 Axes>"
            ]
          },
          "metadata": {
            "tags": [],
            "needs_background": "light"
          }
        }
      ]
    },
    {
      "cell_type": "code",
      "metadata": {
        "id": "GfGkjnZ_TdDe"
      },
      "source": [
        ""
      ],
      "execution_count": null,
      "outputs": []
    }
  ]
}