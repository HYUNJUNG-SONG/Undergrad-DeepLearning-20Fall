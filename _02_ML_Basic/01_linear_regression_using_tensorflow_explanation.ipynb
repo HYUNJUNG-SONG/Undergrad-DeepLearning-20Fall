{
  "nbformat": 4,
  "nbformat_minor": 0,
  "metadata": {
    "colab": {
      "name": "01_linear_regression_using_tensorflow_explanation.ipynb",
      "provenance": []
    },
    "kernelspec": {
      "name": "python3",
      "display_name": "Python 3"
    }
  },
  "cells": [
    {
      "cell_type": "markdown",
      "metadata": {
        "id": "2jztoEuCTvxw"
      },
      "source": [
        "라이브러리 Import 하기"
      ]
    },
    {
      "cell_type": "code",
      "metadata": {
        "colab": {
          "base_uri": "https://localhost:8080/"
        },
        "id": "L5PoATDXTljh",
        "outputId": "7ad4be8c-c36a-43f8-b9ef-7d7e1e451080"
      },
      "source": [
        "#import tensorflow as tf\n",
        "import tensorflow.compat.v1 as tf\n",
        "tf.disable_v2_behavior()\n",
        "\n",
        "import numpy as np\n",
        "import matplotlib.pyplot as plt"
      ],
      "execution_count": 1,
      "outputs": [
        {
          "output_type": "stream",
          "text": [
            "WARNING:tensorflow:From /usr/local/lib/python3.6/dist-packages/tensorflow/python/compat/v2_compat.py:96: disable_resource_variables (from tensorflow.python.ops.variable_scope) is deprecated and will be removed in a future version.\n",
            "Instructions for updating:\n",
            "non-resource variables are not supported in the long term\n"
          ],
          "name": "stdout"
        }
      ]
    },
    {
      "cell_type": "markdown",
      "metadata": {
        "id": "QCkKsYx7TzLJ"
      },
      "source": [
        "X and Y data (given)"
      ]
    },
    {
      "cell_type": "code",
      "metadata": {
        "id": "E_9F0MhbTx09"
      },
      "source": [
        "x_train = [1, 2, 3, 4, 5]\n",
        "#y_train = [2, 4, 6, 8, 10]\n",
        "y_train = [3, 5, 7, 9, 11] #y = 2x +1\n",
        "\n",
        "signal_length = len(x_train)\n",
        "y_noise = np.random.normal(0, 1, signal_length)\n",
        "\n",
        "y_train = y_train + y_noise\n",
        "# 다음의 것들도 해보시오\n",
        "#y_train = [2, 4, 6] # 그냥 x_train 에 2배 곱해서 생성\n",
        "#y_train = [3, 5, 7]"
      ],
      "execution_count": 2,
      "outputs": []
    },
    {
      "cell_type": "code",
      "metadata": {
        "colab": {
          "base_uri": "https://localhost:8080/",
          "height": 265
        },
        "id": "5mO7f7v2T3WC",
        "outputId": "086c36e6-33fa-4a25-d693-004e10d3d7aa"
      },
      "source": [
        "plt.plot(x_train, y_train,'.-')\n",
        "plt.grid()"
      ],
      "execution_count": 3,
      "outputs": [
        {
          "output_type": "display_data",
          "data": {
            "image/png": "[encoded data removed]",
            "text/plain": [
              "<Figure size 432x288 with 1 Axes>"
            ]
          },
          "metadata": {
            "tags": [],
            "needs_background": "light"
          }
        }
      ]
    },
    {
      "cell_type": "markdown",
      "metadata": {
        "id": "aFH_Avg8T56B"
      },
      "source": [
        "Initialization"
      ]
    },
    {
      "cell_type": "code",
      "metadata": {
        "id": "GcbGGn8wT4lW"
      },
      "source": [
        "useRandom = False"
      ],
      "execution_count": 4,
      "outputs": []
    },
    {
      "cell_type": "code",
      "metadata": {
        "id": "2sJPi-NfT7dU"
      },
      "source": [
        "if useRandom:\n",
        "    W = tf.Variable(tf.random_normal([1]), name='weight')\n",
        "    b = tf.Variable(tf.random_normal([1]), name='bias')\n",
        "else:\n",
        "    w0 = 7.0;\n",
        "    b0 = 5.0;\n",
        "\n",
        "    W = tf.Variable(w0*tf.ones([1]), name='weight')\n",
        "    b = tf.Variable(b0*tf.ones([1]), name='bias')"
      ],
      "execution_count": 5,
      "outputs": []
    },
    {
      "cell_type": "markdown",
      "metadata": {
        "id": "23UK94O_T92H"
      },
      "source": [
        "Our hypothesis$$ H(x)=Wx + b $$"
      ]
    },
    {
      "cell_type": "code",
      "metadata": {
        "id": "RgO3F47TT8p2"
      },
      "source": [
        "hypothesis = x_train * W + b"
      ],
      "execution_count": 6,
      "outputs": []
    },
    {
      "cell_type": "markdown",
      "metadata": {
        "id": "xxOIlYFNUBKi"
      },
      "source": [
        "cost/loss function 정의하기\n",
        "\n",
        "loss of one training example :$$loss = \\mathcal{L}(\\hat{y}, y) = (\\hat y^{(i)} - y^{(i)})^2 \\tag{1}$$"
      ]
    },
    {
      "cell_type": "code",
      "metadata": {
        "id": "4k5WQuLCT__w"
      },
      "source": [
        "loss = tf.reduce_mean(tf.square(hypothesis - y_train))"
      ],
      "execution_count": 7,
      "outputs": []
    },
    {
      "cell_type": "markdown",
      "metadata": {
        "id": "y7FFXBlAUFlj"
      },
      "source": [
        "Optimizer"
      ]
    },
    {
      "cell_type": "code",
      "metadata": {
        "id": "XbCh-Y6fUDWY"
      },
      "source": [
        "optimizer = tf.train.GradientDescentOptimizer(learning_rate=0.01)\n",
        "train = optimizer.minimize(loss)"
      ],
      "execution_count": 8,
      "outputs": []
    },
    {
      "cell_type": "markdown",
      "metadata": {
        "id": "314VIOhpUIZT"
      },
      "source": [
        "Launch the graph in a session"
      ]
    },
    {
      "cell_type": "code",
      "metadata": {
        "id": "ZBKFs1WrUHHk"
      },
      "source": [
        "sess = tf.Session()"
      ],
      "execution_count": 9,
      "outputs": []
    },
    {
      "cell_type": "markdown",
      "metadata": {
        "id": "yJdU9DyLUKzp"
      },
      "source": [
        "Initializes global variables in the graph."
      ]
    },
    {
      "cell_type": "code",
      "metadata": {
        "id": "m9XK0NgrUJzp"
      },
      "source": [
        "sess.run(tf.global_variables_initializer())"
      ],
      "execution_count": 10,
      "outputs": []
    },
    {
      "cell_type": "code",
      "metadata": {
        "colab": {
          "base_uri": "https://localhost:8080/"
        },
        "id": "MJ2wd8D6UMAO",
        "outputId": "e0bc1e3d-a2e4-488e-8733-4b17b663ad5b"
      },
      "source": [
        "nb_epoch = 1001\n",
        "vloss = [] #empty list\n",
        "vb = [] #empty list\n",
        "vw = [] #empty list\n",
        "for step in range(nb_epoch):\n",
        "    sess.run(train)\n",
        "    loss1 = sess.run(loss)\n",
        "    vloss.append(loss1)\n",
        "    \n",
        "    if step % 50 == 0: # 5번마다\n",
        "        w1 = sess.run(W)[0] # 기울기\n",
        "        b1 = sess.run(b)[0] # bias\n",
        "        \n",
        "        print(step,'\\t', loss1, '\\t', w1, '\\t',b1)"
      ],
      "execution_count": 11,
      "outputs": [
        {
          "output_type": "stream",
          "text": [
            "0 \t 223.76181 \t 5.7045903 \t 4.634715\n",
            "50 \t 0.5297959 \t 1.5964776 \t 3.1994128\n",
            "100 \t 0.41260606 \t 1.6610646 \t 2.9662116\n",
            "150 \t 0.32908285 \t 1.7155952 \t 2.7693381\n",
            "200 \t 0.2695543 \t 1.7616315 \t 2.6031325\n",
            "250 \t 0.22712739 \t 1.8004965 \t 2.462818\n",
            "300 \t 0.19688879 \t 1.8333074 \t 2.3443599\n",
            "350 \t 0.17533703 \t 1.8610075 \t 2.244354\n",
            "400 \t 0.15997675 \t 1.8843925 \t 2.1599264\n",
            "450 \t 0.14902927 \t 1.9041348 \t 2.088651\n",
            "500 \t 0.1412269 \t 1.9208014 \t 2.028479\n",
            "550 \t 0.13566594 \t 1.934872 \t 1.9776797\n",
            "600 \t 0.13170257 \t 1.9467508 \t 1.9347935\n",
            "650 \t 0.12887774 \t 1.9567791 \t 1.8985882\n",
            "700 \t 0.12686443 \t 1.9652455 \t 1.8680222\n",
            "750 \t 0.12542959 \t 1.9723928 \t 1.8422178\n",
            "800 \t 0.124406815 \t 1.9784268 \t 1.8204331\n",
            "850 \t 0.12367801 \t 1.9835209 \t 1.802042\n",
            "900 \t 0.12315853 \t 1.9878213 \t 1.7865155\n",
            "950 \t 0.12278819 \t 1.9914521 \t 1.773408\n",
            "1000 \t 0.1225243 \t 1.9945172 \t 1.7623417\n"
          ],
          "name": "stdout"
        }
      ]
    },
    {
      "cell_type": "code",
      "metadata": {
        "colab": {
          "base_uri": "https://localhost:8080/",
          "height": 297
        },
        "id": "LL-cbFLJUNRr",
        "outputId": "9d9c9ae1-eb2e-4c98-e46c-73643ee9f372"
      },
      "source": [
        "plt.plot(vloss[:20],'.-')\n",
        "plt.xlabel('epoch')\n",
        "plt.ylabel('loss')"
      ],
      "execution_count": 12,
      "outputs": [
        {
          "output_type": "execute_result",
          "data": {
            "text/plain": [
              "Text(0, 0.5, 'loss')"
            ]
          },
          "metadata": {
            "tags": []
          },
          "execution_count": 12
        },
        {
          "output_type": "display_data",
          "data": {
            "image/png": "[encoded data removed]",
            "text/plain": [
              "<Figure size 432x288 with 1 Axes>"
            ]
          },
          "metadata": {
            "tags": [],
            "needs_background": "light"
          }
        }
      ]
    },
    {
      "cell_type": "markdown",
      "metadata": {
        "id": "TZ_44GG7UQn4"
      },
      "source": [
        "학습완료"
      ]
    },
    {
      "cell_type": "code",
      "metadata": {
        "id": "ZsL2wxgAUOst"
      },
      "source": [
        "w1 = sess.run(W)[0] # 기울기\n",
        "b1 = sess.run(b)[0] # bias"
      ],
      "execution_count": 13,
      "outputs": []
    },
    {
      "cell_type": "markdown",
      "metadata": {
        "id": "TaVg1n76UTPP"
      },
      "source": [
        "출력해보기"
      ]
    },
    {
      "cell_type": "code",
      "metadata": {
        "colab": {
          "base_uri": "https://localhost:8080/"
        },
        "id": "F2Zh3jsiUSdO",
        "outputId": "711b150e-4e89-4eae-d39d-3886e0d6a8f5"
      },
      "source": [
        "print(w1, b1)"
      ],
      "execution_count": 14,
      "outputs": [
        {
          "output_type": "stream",
          "text": [
            "1.9945172 1.7623417\n"
          ],
          "name": "stdout"
        }
      ]
    },
    {
      "cell_type": "code",
      "metadata": {
        "colab": {
          "base_uri": "https://localhost:8080/"
        },
        "id": "NQLdrjbMUV4i",
        "outputId": "5cd89027-8a79-45c8-8904-d1176eb688a8"
      },
      "source": [
        "str1 = 'y = ' + str(w1) +'x + ' + str(b1)\n",
        "print(str1)"
      ],
      "execution_count": 15,
      "outputs": [
        {
          "output_type": "stream",
          "text": [
            "y = 1.9945172x + 1.7623417\n"
          ],
          "name": "stdout"
        }
      ]
    },
    {
      "cell_type": "code",
      "metadata": {
        "colab": {
          "base_uri": "https://localhost:8080/",
          "height": 299
        },
        "id": "yucr2aw5UXDj",
        "outputId": "07d3c010-7955-408d-f5c4-0b3c3cb4cdcd"
      },
      "source": [
        "plt.figure(figsize=(6,4)) # figsize를 바꾸어보세요\n",
        "plt.plot(x_train, y_train,'o') #train data 그리기\n",
        "\n",
        "# 직선 그래프를 그리기 위한 코드\n",
        "# 그래프의 x좌표를 일정 간격으로 설정함\n",
        "x1 = np.linspace(np.min(x_train)-1, np.max(x_train)+1)\n",
        "y1 = w1*x1 + b1\n",
        "plt.plot(x1, y1)\n",
        "\n",
        "plt.grid() # 격자\n",
        "#plt.axis((np.min(x_train) - 1, np.max(x_train) + 1, np.min(y_train) - 1, np.max(y_train) + 1))\n",
        "plt.title(str1)"
      ],
      "execution_count": 16,
      "outputs": [
        {
          "output_type": "execute_result",
          "data": {
            "text/plain": [
              "Text(0.5, 1.0, 'y = 1.9945172x + 1.7623417')"
            ]
          },
          "metadata": {
            "tags": []
          },
          "execution_count": 16
        },
        {
          "output_type": "display_data",
          "data": {
            "image/png": "[encoded data removed]",
            "text/plain": [
              "<Figure size 432x288 with 1 Axes>"
            ]
          },
          "metadata": {
            "tags": [],
            "needs_background": "light"
          }
        }
      ]
    },
    {
      "cell_type": "code",
      "metadata": {
        "id": "Hn00ZPIIUYgu"
      },
      "source": [
        ""
      ],
      "execution_count": null,
      "outputs": []
    }
  ]
}