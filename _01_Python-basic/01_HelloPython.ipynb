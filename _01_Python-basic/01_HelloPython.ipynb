{
  "nbformat": 4,
  "nbformat_minor": 0,
  "metadata": {
    "colab": {
      "name": "01_HelloPython.ipynb",
      "provenance": []
    },
    "kernelspec": {
      "name": "python3",
      "display_name": "Python 3"
    }
  },
  "cells": [
    {
      "cell_type": "markdown",
      "metadata": {
        "id": "2r6jo8kvNtt3"
      },
      "source": [
        "Python tutorial #1"
      ]
    },
    {
      "cell_type": "markdown",
      "metadata": {
        "id": "rrR9B-ITNtmF"
      },
      "source": [
        "Hello World !"
      ]
    },
    {
      "cell_type": "code",
      "metadata": {
        "colab": {
          "base_uri": "https://localhost:8080/"
        },
        "id": "fxsuKlN4NpyG",
        "outputId": "9b92e572-6831-42ff-be14-52604d3288f9"
      },
      "source": [
        "print('Hello World')\n",
        "print('Hello World {} + {} = {}'.format(2, 3, 2+3))"
      ],
      "execution_count": 3,
      "outputs": [
        {
          "output_type": "stream",
          "text": [
            "Hello World\n",
            "Hello World 2 + 3 = 5\n"
          ],
          "name": "stdout"
        }
      ]
    },
    {
      "cell_type": "code",
      "metadata": {
        "colab": {
          "base_uri": "https://localhost:8080/"
        },
        "id": "YNfzhrjMNrEf",
        "outputId": "a21c283a-614b-4236-f2a6-909a6595c1dd"
      },
      "source": [
        "x = 3\n",
        "print(type(x)) # Prints \"<class 'int'>\"\n",
        "print(x)       # Prints \"3\""
      ],
      "execution_count": 4,
      "outputs": [
        {
          "output_type": "stream",
          "text": [
            "<class 'int'>\n",
            "3\n"
          ],
          "name": "stdout"
        }
      ]
    },
    {
      "cell_type": "code",
      "metadata": {
        "colab": {
          "base_uri": "https://localhost:8080/"
        },
        "id": "qicADBkLNyTx",
        "outputId": "dec37c1b-b977-42a0-e825-5e2afd1eb808"
      },
      "source": [
        "print(x + 1)   # Addition; prints \"4\"\n",
        "print(x - 1)   # Subtraction; prints \"2\"\n",
        "print(x * 2)   # Multiplication; prints \"6\"\n",
        "print(x ** 2)  # Exponentiation; prints \"9\""
      ],
      "execution_count": 5,
      "outputs": [
        {
          "output_type": "stream",
          "text": [
            "4\n",
            "2\n",
            "6\n",
            "9\n"
          ],
          "name": "stdout"
        }
      ]
    },
    {
      "cell_type": "markdown",
      "metadata": {
        "id": "Jdl-AxSyN1_2"
      },
      "source": [
        "For statement\n",
        "\n",
        "range: 영역을 설정"
      ]
    },
    {
      "cell_type": "code",
      "metadata": {
        "colab": {
          "base_uri": "https://localhost:8080/"
        },
        "id": "PXvIZRZdN007",
        "outputId": "3d4e061c-6098-4dbc-f651-cecd799e2143"
      },
      "source": [
        "A = range(5)\n",
        "print(A)"
      ],
      "execution_count": 6,
      "outputs": [
        {
          "output_type": "stream",
          "text": [
            "range(0, 5)\n"
          ],
          "name": "stdout"
        }
      ]
    },
    {
      "cell_type": "markdown",
      "metadata": {
        "id": "-91gYJ9JN-X7"
      },
      "source": [
        "A의 세번째 요소를 출력"
      ]
    },
    {
      "cell_type": "code",
      "metadata": {
        "colab": {
          "base_uri": "https://localhost:8080/"
        },
        "id": "h3IK8mBEN8wT",
        "outputId": "f1679c52-ec61-48f9-bdca-a739b750622b"
      },
      "source": [
        "print(A[2])"
      ],
      "execution_count": 7,
      "outputs": [
        {
          "output_type": "stream",
          "text": [
            "2\n"
          ],
          "name": "stdout"
        }
      ]
    },
    {
      "cell_type": "code",
      "metadata": {
        "colab": {
          "base_uri": "https://localhost:8080/"
        },
        "id": "t_a-VEucOBGt",
        "outputId": "afdfeb98-d533-49e9-bc71-7c836b6f89e3"
      },
      "source": [
        "for i in range(5):\n",
        "    #print(i, A[i])\n",
        "    print('{} ----- {}'.format(i, A[i]))"
      ],
      "execution_count": 8,
      "outputs": [
        {
          "output_type": "stream",
          "text": [
            "0 ----- 0\n",
            "1 ----- 1\n",
            "2 ----- 2\n",
            "3 ----- 3\n",
            "4 ----- 4\n"
          ],
          "name": "stdout"
        }
      ]
    },
    {
      "cell_type": "markdown",
      "metadata": {
        "id": "qKogmNZvOFf5"
      },
      "source": [
        "Excersise\n",
        "\n",
        "구구단을 작성하시오 (아래 코드를 수정하시오)"
      ]
    },
    {
      "cell_type": "code",
      "metadata": {
        "colab": {
          "base_uri": "https://localhost:8080/"
        },
        "id": "_jhr9ixLOD2D",
        "outputId": "8df3cef0-c487-4f97-a2a9-d29d76401f28"
      },
      "source": [
        "for i in range(9):\n",
        "    print('{} x {} = {}'.format(2, i, 2*i))"
      ],
      "execution_count": 9,
      "outputs": [
        {
          "output_type": "stream",
          "text": [
            "2 x 0 = 0\n",
            "2 x 1 = 2\n",
            "2 x 2 = 4\n",
            "2 x 3 = 6\n",
            "2 x 4 = 8\n",
            "2 x 5 = 10\n",
            "2 x 6 = 12\n",
            "2 x 7 = 14\n",
            "2 x 8 = 16\n"
          ],
          "name": "stdout"
        }
      ]
    },
    {
      "cell_type": "markdown",
      "metadata": {
        "id": "VJ1uf1RTOKGP"
      },
      "source": [
        "Operators"
      ]
    },
    {
      "cell_type": "code",
      "metadata": {
        "colab": {
          "base_uri": "https://localhost:8080/"
        },
        "id": "LRf95S0NOIzE",
        "outputId": "81c09136-aad3-472a-f7c6-b81a8e6f927f"
      },
      "source": [
        "print((1, 2, 3) * 3)\n",
        "print([1, 2, 3] * 3)\n",
        "print(\"Hello \"*3)"
      ],
      "execution_count": 10,
      "outputs": [
        {
          "output_type": "stream",
          "text": [
            "(1, 2, 3, 1, 2, 3, 1, 2, 3)\n",
            "[1, 2, 3, 1, 2, 3, 1, 2, 3]\n",
            "Hello Hello Hello \n"
          ],
          "name": "stdout"
        }
      ]
    },
    {
      "cell_type": "markdown",
      "metadata": {
        "id": "UOOhOzPPONUD"
      },
      "source": [
        "Containers\n",
        "\n",
        "Python includes several built-in container types: lists, dictionaries, sets, and tuples."
      ]
    },
    {
      "cell_type": "markdown",
      "metadata": {
        "id": "N0MAS93eONMA"
      },
      "source": [
        "Tuple\n",
        "\n",
        "A simple immutable (변경할 수 없는, 불변의) ordered sequence of items"
      ]
    },
    {
      "cell_type": "code",
      "metadata": {
        "colab": {
          "base_uri": "https://localhost:8080/"
        },
        "id": "0ecV5uYPOMi5",
        "outputId": "b3a723b2-5817-41c5-ebad-d024dbecc2ef"
      },
      "source": [
        "# -*- coding: utf-8 -*-\n",
        "# creating a tuple\n",
        "months = ('January','February','March','April','May','June',\\\n",
        "'July','August','September','October','November','December')\n",
        "\n",
        "print(months[0])\n",
        "print(\"index of 7 ==> \" , months[7])"
      ],
      "execution_count": 11,
      "outputs": [
        {
          "output_type": "stream",
          "text": [
            "January\n",
            "index of 7 ==>  August\n"
          ],
          "name": "stdout"
        }
      ]
    },
    {
      "cell_type": "markdown",
      "metadata": {
        "id": "aDMbt_4ROTyh"
      },
      "source": [
        "하나씩 출력하기"
      ]
    },
    {
      "cell_type": "code",
      "metadata": {
        "colab": {
          "base_uri": "https://localhost:8080/"
        },
        "id": "VJDtXeRDOSPb",
        "outputId": "77232c64-1dd0-4173-89c5-5646aa4b4f66"
      },
      "source": [
        "# iterate through them:\n",
        "for item in months:\n",
        "    print (item)"
      ],
      "execution_count": 12,
      "outputs": [
        {
          "output_type": "stream",
          "text": [
            "January\n",
            "February\n",
            "March\n",
            "April\n",
            "May\n",
            "June\n",
            "July\n",
            "August\n",
            "September\n",
            "October\n",
            "November\n",
            "December\n"
          ],
          "name": "stdout"
        }
      ]
    },
    {
      "cell_type": "code",
      "metadata": {
        "colab": {
          "base_uri": "https://localhost:8080/"
        },
        "id": "Y5HWn-oUOWob",
        "outputId": "03dae2dd-82f8-450b-9ae6-a978be14a453"
      },
      "source": [
        "t = ('john', 32, (2,3,4,5), 'hello')\n",
        "print(t)\n",
        "print(t[2])\n",
        "print(t[2][1])\n",
        "print(t[:2]) # index 포함 X\n",
        "print(t[2:]) # index 포함 O\n",
        "\n",
        "print(t[-1])\n",
        "print(t[-2])"
      ],
      "execution_count": 13,
      "outputs": [
        {
          "output_type": "stream",
          "text": [
            "('john', 32, (2, 3, 4, 5), 'hello')\n",
            "(2, 3, 4, 5)\n",
            "3\n",
            "('john', 32)\n",
            "((2, 3, 4, 5), 'hello')\n",
            "hello\n",
            "(2, 3, 4, 5)\n"
          ],
          "name": "stdout"
        }
      ]
    },
    {
      "cell_type": "markdown",
      "metadata": {
        "id": "fzPZyLZLOZqq"
      },
      "source": [
        "List\n",
        "\n",
        "Mutable (바꿀수 있는, 변경가능한) ordered sequence of items of mixed types"
      ]
    },
    {
      "cell_type": "code",
      "metadata": {
        "colab": {
          "base_uri": "https://localhost:8080/"
        },
        "id": "we0luuXmOX8f",
        "outputId": "e5edef1c-448d-443c-c071-af24dd48594b"
      },
      "source": [
        "li = ['hallym', 1, 3.141572, 'hello']\n",
        "print(li)"
      ],
      "execution_count": 14,
      "outputs": [
        {
          "output_type": "stream",
          "text": [
            "['hallym', 1, 3.141572, 'hello']\n"
          ],
          "name": "stdout"
        }
      ]
    },
    {
      "cell_type": "code",
      "metadata": {
        "colab": {
          "base_uri": "https://localhost:8080/"
        },
        "id": "NrWI5ayJOcHP",
        "outputId": "85d21ff9-b9a7-4aeb-f68a-5dd4d45780bc"
      },
      "source": [
        "li[1] = 45\n",
        "print(li)"
      ],
      "execution_count": 15,
      "outputs": [
        {
          "output_type": "stream",
          "text": [
            "['hallym', 45, 3.141572, 'hello']\n"
          ],
          "name": "stdout"
        }
      ]
    },
    {
      "cell_type": "code",
      "metadata": {
        "colab": {
          "base_uri": "https://localhost:8080/"
        },
        "id": "YWSsB1nSOdX_",
        "outputId": "e4e533c8-000b-4c28-9706-278a5e7281a7"
      },
      "source": [
        "li.append('September')\n",
        "print(li)"
      ],
      "execution_count": 16,
      "outputs": [
        {
          "output_type": "stream",
          "text": [
            "['hallym', 45, 3.141572, 'hello', 'September']\n"
          ],
          "name": "stdout"
        }
      ]
    },
    {
      "cell_type": "markdown",
      "metadata": {
        "id": "5vP3R7Y2Ogva"
      },
      "source": [
        "리스트에 새로운 것이 뒤에 붙은 것 (append)을 확인 가능\n",
        "\n",
        "비어있는 리스트 만들기"
      ]
    },
    {
      "cell_type": "code",
      "metadata": {
        "id": "5GxXg3kHOfFD"
      },
      "source": [
        "v = []"
      ],
      "execution_count": 17,
      "outputs": []
    },
    {
      "cell_type": "markdown",
      "metadata": {
        "id": "agYP0GDvOjaG"
      },
      "source": [
        "비어있는 리스트에 값 추가하기"
      ]
    },
    {
      "cell_type": "code",
      "metadata": {
        "colab": {
          "base_uri": "https://localhost:8080/"
        },
        "id": "xw0MyxOwOi8U",
        "outputId": "e64932d2-8e3f-4cd5-e2ca-55818123faf9"
      },
      "source": [
        "for i in range(0,3):\n",
        "    v.append(i*5)\n",
        "    print(i, v)"
      ],
      "execution_count": 18,
      "outputs": [
        {
          "output_type": "stream",
          "text": [
            "0 [0]\n",
            "1 [0, 5]\n",
            "2 [0, 5, 10]\n"
          ],
          "name": "stdout"
        }
      ]
    },
    {
      "cell_type": "markdown",
      "metadata": {
        "id": "nxIwfh73OoKV"
      },
      "source": [
        "+연산자"
      ]
    },
    {
      "cell_type": "code",
      "metadata": {
        "colab": {
          "base_uri": "https://localhost:8080/"
        },
        "id": "jyA95S7DOmjI",
        "outputId": "b0e021c6-e5dd-4d65-9a21-e68b778a8752"
      },
      "source": [
        "print((1, 2, 3) + (4, 5, 6))\n",
        "print([1, 2, 3] + [4, 5, 6])\n",
        "print(\"Hello\" + \" \" + \"World\")"
      ],
      "execution_count": 19,
      "outputs": [
        {
          "output_type": "stream",
          "text": [
            "(1, 2, 3, 4, 5, 6)\n",
            "[1, 2, 3, 4, 5, 6]\n",
            "Hello World\n"
          ],
          "name": "stdout"
        }
      ]
    },
    {
      "cell_type": "markdown",
      "metadata": {
        "id": "OQqjffB8Oy3W"
      },
      "source": [
        "*연산자\n",
        "\n",
        "The * operator produces a new tuple, list, or string that \"repeats\" the original content."
      ]
    },
    {
      "cell_type": "code",
      "metadata": {
        "colab": {
          "base_uri": "https://localhost:8080/"
        },
        "id": "gD6f7iuwO4mC",
        "outputId": "bb358fdc-b5c8-417e-c530-167ed6b96328"
      },
      "source": [
        "y = 2.5\n",
        "print(type(y)) # Prints \"<class 'float'>\"\n",
        "print(y, y + 1, y * 2, y ** 2) # Prints \"2.5 3.5 5.0 6.25\""
      ],
      "execution_count": 20,
      "outputs": [
        {
          "output_type": "stream",
          "text": [
            "<class 'float'>\n",
            "2.5 3.5 5.0 6.25\n"
          ],
          "name": "stdout"
        }
      ]
    },
    {
      "cell_type": "markdown",
      "metadata": {
        "id": "rhzleRZIO9HP"
      },
      "source": [
        "Enumeration (열거하기)"
      ]
    },
    {
      "cell_type": "code",
      "metadata": {
        "colab": {
          "base_uri": "https://localhost:8080/"
        },
        "id": "kffHk3NbO7Xd",
        "outputId": "e064d759-7b8b-4a10-f71b-19d6dd21beb7"
      },
      "source": [
        "for i, val in enumerate(v):\n",
        "    print('{} ---> {}'.format(i, val))"
      ],
      "execution_count": 21,
      "outputs": [
        {
          "output_type": "stream",
          "text": [
            "0 ---> 0\n",
            "1 ---> 5\n",
            "2 ---> 10\n"
          ],
          "name": "stdout"
        }
      ]
    },
    {
      "cell_type": "code",
      "metadata": {
        "colab": {
          "base_uri": "https://localhost:8080/"
        },
        "id": "jEo2Un90O-2B",
        "outputId": "7672d252-9ae6-4dfe-e013-e5a14915f708"
      },
      "source": [
        "v2 = [ 'A', 'B', 'C',  '0', '1', '2', '3']\n",
        "print(v2)"
      ],
      "execution_count": 22,
      "outputs": [
        {
          "output_type": "stream",
          "text": [
            "['A', 'B', 'C', '0', '1', '2', '3']\n"
          ],
          "name": "stdout"
        }
      ]
    },
    {
      "cell_type": "code",
      "metadata": {
        "colab": {
          "base_uri": "https://localhost:8080/"
        },
        "id": "60sIxOBuPAF4",
        "outputId": "5ff24036-30fc-47cc-c3af-14176fe81d6b"
      },
      "source": [
        "for i, val in enumerate(v2):\n",
        "    print('{} ---> {}'.format(i, val))"
      ],
      "execution_count": 23,
      "outputs": [
        {
          "output_type": "stream",
          "text": [
            "0 ---> A\n",
            "1 ---> B\n",
            "2 ---> C\n",
            "3 ---> 0\n",
            "4 ---> 1\n",
            "5 ---> 2\n",
            "6 ---> 3\n"
          ],
          "name": "stdout"
        }
      ]
    },
    {
      "cell_type": "markdown",
      "metadata": {
        "id": "s-Ve0MYqPDWC"
      },
      "source": [
        "List comprehension (LC)\n",
        "\n",
        "List comprehensions provide a concise way to create lists."
      ]
    },
    {
      "cell_type": "code",
      "metadata": {
        "id": "DfC5sM9cPB7h"
      },
      "source": [
        "squares = []\n",
        "for x in range(10):\n",
        "    squares.append(x**2)"
      ],
      "execution_count": 24,
      "outputs": []
    },
    {
      "cell_type": "code",
      "metadata": {
        "colab": {
          "base_uri": "https://localhost:8080/"
        },
        "id": "Ciif_ebXPGc7",
        "outputId": "26f3c451-7ffd-4743-eaa4-d51d6e362db1"
      },
      "source": [
        "print(squares)"
      ],
      "execution_count": 25,
      "outputs": [
        {
          "output_type": "stream",
          "text": [
            "[0, 1, 4, 9, 16, 25, 36, 49, 64, 81]\n"
          ],
          "name": "stdout"
        }
      ]
    },
    {
      "cell_type": "markdown",
      "metadata": {
        "id": "PgtI_xETPJd2"
      },
      "source": [
        "or, equivalently:"
      ]
    },
    {
      "cell_type": "code",
      "metadata": {
        "id": "NvQ-C9DRPH39"
      },
      "source": [
        "squares = [x**2 for x in range(10)]"
      ],
      "execution_count": 26,
      "outputs": []
    },
    {
      "cell_type": "code",
      "metadata": {
        "colab": {
          "base_uri": "https://localhost:8080/"
        },
        "id": "P0fPyWsJPLPp",
        "outputId": "393e9a78-3d77-4481-80e3-d0c4b520602a"
      },
      "source": [
        "print(squares)"
      ],
      "execution_count": 27,
      "outputs": [
        {
          "output_type": "stream",
          "text": [
            "[0, 1, 4, 9, 16, 25, 36, 49, 64, 81]\n"
          ],
          "name": "stdout"
        }
      ]
    },
    {
      "cell_type": "code",
      "metadata": {
        "colab": {
          "base_uri": "https://localhost:8080/"
        },
        "id": "5ju4S2oUPMV_",
        "outputId": "8c854efb-b530-4ebe-9abf-87e098b26c19"
      },
      "source": [
        "word = '메롱'\n",
        "print([c * 2 for c in word])"
      ],
      "execution_count": 28,
      "outputs": [
        {
          "output_type": "stream",
          "text": [
            "['메메', '롱롱']\n"
          ],
          "name": "stdout"
        }
      ]
    },
    {
      "cell_type": "code",
      "metadata": {
        "id": "E0qA3SG_PNlI"
      },
      "source": [
        "A = [n for n in range(10) if n % 2 == 0]"
      ],
      "execution_count": 29,
      "outputs": []
    },
    {
      "cell_type": "code",
      "metadata": {
        "colab": {
          "base_uri": "https://localhost:8080/"
        },
        "id": "bSwYIBWwPO0c",
        "outputId": "86b77f61-ecef-4b54-8f4f-c1a5bb8744c0"
      },
      "source": [
        "print(A) # LC 에서 조건문을 통해 특정 값들을 필터링할 수 있다"
      ],
      "execution_count": 30,
      "outputs": [
        {
          "output_type": "stream",
          "text": [
            "[0, 2, 4, 6, 8]\n"
          ],
          "name": "stdout"
        }
      ]
    },
    {
      "cell_type": "markdown",
      "metadata": {
        "id": "9auKpg8tPSP7"
      },
      "source": [
        "Lambda\n",
        "\n",
        "람다(lambda)는 익명함수를 지칭하는 용어\n",
        "\n",
        "lambda 인자리스트: 표현식"
      ]
    },
    {
      "cell_type": "code",
      "metadata": {
        "id": "VFGatvNoPP7o"
      },
      "source": [
        "def jegob(x):\n",
        "    return x**2"
      ],
      "execution_count": 31,
      "outputs": []
    },
    {
      "cell_type": "code",
      "metadata": {
        "id": "eXv8yDv_PUVN"
      },
      "source": [
        "g = lambda x: x**2"
      ],
      "execution_count": 32,
      "outputs": []
    },
    {
      "cell_type": "code",
      "metadata": {
        "colab": {
          "base_uri": "https://localhost:8080/"
        },
        "id": "4c8S0EbePVb0",
        "outputId": "3d32d124-dc50-426b-9ca2-703b596a0515"
      },
      "source": [
        "g(7)"
      ],
      "execution_count": 33,
      "outputs": [
        {
          "output_type": "execute_result",
          "data": {
            "text/plain": [
              "49"
            ]
          },
          "metadata": {
            "tags": []
          },
          "execution_count": 33
        }
      ]
    },
    {
      "cell_type": "code",
      "metadata": {
        "colab": {
          "base_uri": "https://localhost:8080/"
        },
        "id": "BOjuPn94PW22",
        "outputId": "7d39a6df-e706-44a6-d71f-51bce625a910"
      },
      "source": [
        "print(g(8))"
      ],
      "execution_count": 34,
      "outputs": [
        {
          "output_type": "stream",
          "text": [
            "64\n"
          ],
          "name": "stdout"
        }
      ]
    },
    {
      "cell_type": "code",
      "metadata": {
        "colab": {
          "base_uri": "https://localhost:8080/"
        },
        "id": "C0vhyNjiPYr4",
        "outputId": "f36763e5-5794-4707-a971-efc3a59a0590"
      },
      "source": [
        "print(g(9))"
      ],
      "execution_count": 35,
      "outputs": [
        {
          "output_type": "stream",
          "text": [
            "81\n"
          ],
          "name": "stdout"
        }
      ]
    },
    {
      "cell_type": "code",
      "metadata": {
        "id": "ks10_QEfPZrr"
      },
      "source": [
        "f = lambda x, y: x + y"
      ],
      "execution_count": 36,
      "outputs": []
    },
    {
      "cell_type": "code",
      "metadata": {
        "colab": {
          "base_uri": "https://localhost:8080/"
        },
        "id": "bzkd3w8_Pa0j",
        "outputId": "7c12fbea-3294-4f44-8cd4-e833d0ea1c2d"
      },
      "source": [
        "f(2, 3)"
      ],
      "execution_count": 37,
      "outputs": [
        {
          "output_type": "execute_result",
          "data": {
            "text/plain": [
              "5"
            ]
          },
          "metadata": {
            "tags": []
          },
          "execution_count": 37
        }
      ]
    },
    {
      "cell_type": "markdown",
      "metadata": {
        "id": "7LB9x9x4PdOR"
      },
      "source": [
        "인자가 없는 Lambdas (Lambdas with no arguments)"
      ]
    },
    {
      "cell_type": "code",
      "metadata": {
        "id": "I1gdcU0tPbz7"
      },
      "source": [
        "f = lambda: True"
      ],
      "execution_count": 38,
      "outputs": []
    },
    {
      "cell_type": "code",
      "metadata": {
        "colab": {
          "base_uri": "https://localhost:8080/"
        },
        "id": "z78pPTnNPgci",
        "outputId": "1bdab398-f913-4f49-c57e-4961c4a1d2a3"
      },
      "source": [
        "f()"
      ],
      "execution_count": 39,
      "outputs": [
        {
          "output_type": "execute_result",
          "data": {
            "text/plain": [
              "True"
            ]
          },
          "metadata": {
            "tags": []
          },
          "execution_count": 39
        }
      ]
    },
    {
      "cell_type": "code",
      "metadata": {
        "id": "kHPl3Mb9PiS0"
      },
      "source": [
        ""
      ],
      "execution_count": null,
      "outputs": []
    }
  ]
}