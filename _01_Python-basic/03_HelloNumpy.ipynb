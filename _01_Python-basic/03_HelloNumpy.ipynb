{
  "nbformat": 4,
  "nbformat_minor": 0,
  "metadata": {
    "colab": {
      "name": "03_HelloNumpy.ipynb",
      "provenance": [],
      "collapsed_sections": []
    },
    "kernelspec": {
      "name": "python3",
      "display_name": "Python 3"
    }
  },
  "cells": [
    {
      "cell_type": "markdown",
      "metadata": {
        "id": "4Fi397EWQ4Sj"
      },
      "source": [
        "Python Numpy Tutorial #1"
      ]
    },
    {
      "cell_type": "markdown",
      "metadata": {
        "id": "6d2MXwi78oHR"
      },
      "source": [
        "#NumPy"
      ]
    },
    {
      "cell_type": "code",
      "metadata": {
        "id": "QjxO1Y3a8gU9"
      },
      "source": [
        "import numpy as np #numpy의 경우 라이브러리, 배열 생성 함수"
      ],
      "execution_count": null,
      "outputs": []
    },
    {
      "cell_type": "code",
      "metadata": {
        "id": "tk8ELQCc8uC7"
      },
      "source": [
        "import matplotlib.pyplot as plt"
      ],
      "execution_count": null,
      "outputs": []
    },
    {
      "cell_type": "markdown",
      "metadata": {
        "id": "B46qPbc480g7"
      },
      "source": [
        "List 형태의 배열"
      ]
    },
    {
      "cell_type": "code",
      "metadata": {
        "id": "LzdAQhrI8ymU"
      },
      "source": [
        "a = [1, 2, 3]"
      ],
      "execution_count": null,
      "outputs": []
    },
    {
      "cell_type": "code",
      "metadata": {
        "id": "wxsUvggV85Rs",
        "colab": {
          "base_uri": "https://localhost:8080/",
          "height": 35
        },
        "outputId": "ad8bc236-4353-4ce7-fd7d-487eb3d995a6"
      },
      "source": [
        "print(a)"
      ],
      "execution_count": null,
      "outputs": [
        {
          "output_type": "stream",
          "text": [
            "[1, 2, 3]\n"
          ],
          "name": "stdout"
        }
      ]
    },
    {
      "cell_type": "markdown",
      "metadata": {
        "id": "N9-ZGLpZ88kw"
      },
      "source": [
        "Numpy 사용한 배열"
      ]
    },
    {
      "cell_type": "code",
      "metadata": {
        "id": "bO8xeI2586sl"
      },
      "source": [
        "a = np.array([1, 2, 3]) #numpy를 이용해 array 정의"
      ],
      "execution_count": null,
      "outputs": []
    },
    {
      "cell_type": "code",
      "metadata": {
        "id": "jro5LgE_9L8T",
        "colab": {
          "base_uri": "https://localhost:8080/",
          "height": 35
        },
        "outputId": "56558920-a377-4f5e-ec70-dc6e60967e1d"
      },
      "source": [
        "print(a)"
      ],
      "execution_count": null,
      "outputs": [
        {
          "output_type": "stream",
          "text": [
            "[1 2 3]\n"
          ],
          "name": "stdout"
        }
      ]
    },
    {
      "cell_type": "code",
      "metadata": {
        "id": "cnJsplvf9Nis",
        "colab": {
          "base_uri": "https://localhost:8080/",
          "height": 35
        },
        "outputId": "ff0152fe-fad6-459e-f44f-8438a921d5a6"
      },
      "source": [
        "a.shape #데이터 출력이 tuple, 각 차원(array)의 크기 - 출력된 결과물은 1차원의 데이터 총 3의 크기를 가진"
      ],
      "execution_count": null,
      "outputs": [
        {
          "output_type": "execute_result",
          "data": {
            "text/plain": [
              "(3,)"
            ]
          },
          "metadata": {
            "tags": []
          },
          "execution_count": 8
        }
      ]
    },
    {
      "cell_type": "code",
      "metadata": {
        "id": "mP9fIC5g9Pyg",
        "colab": {
          "base_uri": "https://localhost:8080/",
          "height": 35
        },
        "outputId": "a7d338e2-37b7-40db-9069-34fcb70a9076"
      },
      "source": [
        "b = np.array([[1,2,3],[4,5,6]]) #rank가 2인 배열 생성\n",
        "print(b.shape) #출력 \"(2, 3)\" - (세로, 가로) 2차원의 데이터 2*3의 크기를 가진"
      ],
      "execution_count": null,
      "outputs": [
        {
          "output_type": "stream",
          "text": [
            "(2, 3)\n"
          ],
          "name": "stdout"
        }
      ]
    },
    {
      "cell_type": "code",
      "metadata": {
        "id": "Q6PwjECj-ZqD",
        "colab": {
          "base_uri": "https://localhost:8080/",
          "height": 35
        },
        "outputId": "38473d5f-f5f6-49db-bc92-67ba2fe7047f"
      },
      "source": [
        "print(b[0,0], b[0,1], b[1,0])"
      ],
      "execution_count": null,
      "outputs": [
        {
          "output_type": "stream",
          "text": [
            "1 2 4\n"
          ],
          "name": "stdout"
        }
      ]
    },
    {
      "cell_type": "markdown",
      "metadata": {
        "id": "zU_QxyR3-1ux"
      },
      "source": [
        "#Axis / axes"
      ]
    },
    {
      "cell_type": "code",
      "metadata": {
        "id": "ilwzvnbZ-fzU",
        "colab": {
          "base_uri": "https://localhost:8080/",
          "height": 53
        },
        "outputId": "13ba3a22-a825-424c-9d75-863583d19fd3"
      },
      "source": [
        "a = np.array([[1,2], [3,4]])\n",
        "print(a)"
      ],
      "execution_count": null,
      "outputs": [
        {
          "output_type": "stream",
          "text": [
            "[[1 2]\n",
            " [3 4]]\n"
          ],
          "name": "stdout"
        }
      ]
    },
    {
      "cell_type": "code",
      "metadata": {
        "id": "WS8H94EnAE8H",
        "colab": {
          "base_uri": "https://localhost:8080/",
          "height": 35
        },
        "outputId": "c6c80735-42f2-4a89-d6c5-e6b78cc0a0c4"
      },
      "source": [
        "np.mean(a) #axis를 지정하지 않으면 전체 평균을 구함"
      ],
      "execution_count": null,
      "outputs": [
        {
          "output_type": "execute_result",
          "data": {
            "text/plain": [
              "2.5"
            ]
          },
          "metadata": {
            "tags": []
          },
          "execution_count": 12
        }
      ]
    },
    {
      "cell_type": "markdown",
      "metadata": {
        "id": "hrlbE7xZAq4t"
      },
      "source": [
        "Axis 0 방향 (↓)"
      ]
    },
    {
      "cell_type": "code",
      "metadata": {
        "id": "KmKmlD09AM7x",
        "colab": {
          "base_uri": "https://localhost:8080/",
          "height": 35
        },
        "outputId": "6820f431-bed4-4bbe-bd9b-93c03514be73"
      },
      "source": [
        "np.mean(a, axis=0) #mean=평균"
      ],
      "execution_count": null,
      "outputs": [
        {
          "output_type": "execute_result",
          "data": {
            "text/plain": [
              "array([2., 3.])"
            ]
          },
          "metadata": {
            "tags": []
          },
          "execution_count": 13
        }
      ]
    },
    {
      "cell_type": "code",
      "metadata": {
        "id": "W434cENQBGkb",
        "colab": {
          "base_uri": "https://localhost:8080/",
          "height": 35
        },
        "outputId": "ec9b673e-3159-4aad-dacf-17aa935c8030"
      },
      "source": [
        "np.sum(a, axis=0) #sum=합"
      ],
      "execution_count": null,
      "outputs": [
        {
          "output_type": "execute_result",
          "data": {
            "text/plain": [
              "array([4, 6])"
            ]
          },
          "metadata": {
            "tags": []
          },
          "execution_count": 14
        }
      ]
    },
    {
      "cell_type": "markdown",
      "metadata": {
        "id": "lWuhGy2fBNNm"
      },
      "source": [
        "Axis 1 방향 (→)"
      ]
    },
    {
      "cell_type": "code",
      "metadata": {
        "id": "HRhQ_DlHBLh-",
        "colab": {
          "base_uri": "https://localhost:8080/",
          "height": 35
        },
        "outputId": "1523a348-e17b-4298-820e-4fd210acfa07"
      },
      "source": [
        "np.mean(a, axis=1)"
      ],
      "execution_count": null,
      "outputs": [
        {
          "output_type": "execute_result",
          "data": {
            "text/plain": [
              "array([1.5, 3.5])"
            ]
          },
          "metadata": {
            "tags": []
          },
          "execution_count": 15
        }
      ]
    },
    {
      "cell_type": "code",
      "metadata": {
        "id": "Rs5v5FYiBanM",
        "colab": {
          "base_uri": "https://localhost:8080/",
          "height": 35
        },
        "outputId": "5dde1abf-3714-432f-b46f-bf725c8ff63f"
      },
      "source": [
        "np.sum(a, axis=1)"
      ],
      "execution_count": null,
      "outputs": [
        {
          "output_type": "execute_result",
          "data": {
            "text/plain": [
              "array([3, 7])"
            ]
          },
          "metadata": {
            "tags": []
          },
          "execution_count": 16
        }
      ]
    },
    {
      "cell_type": "markdown",
      "metadata": {
        "id": "NLMs4KZuBgqo"
      },
      "source": [
        "#Broadcast \n",
        "\n",
        "넘파이에서 형상이 다른 배열을 계산하기 위해서 지원하는 기능"
      ]
    },
    {
      "cell_type": "code",
      "metadata": {
        "id": "LkQ8cS42BejS",
        "colab": {
          "base_uri": "https://localhost:8080/",
          "height": 71
        },
        "outputId": "6f872d1b-ccef-4f79-da8d-a498b8d59f14"
      },
      "source": [
        "A = np.array([[56.0, 0.0, 4.0, 68.0], \n",
        "              [1.2, 104.0, 52.0, 8.0], \n",
        "              [1.8, 135.0, 99.0, 0.9]])\n",
        "print(A)"
      ],
      "execution_count": null,
      "outputs": [
        {
          "output_type": "stream",
          "text": [
            "[[ 56.    0.    4.   68. ]\n",
            " [  1.2 104.   52.    8. ]\n",
            " [  1.8 135.   99.    0.9]]\n"
          ],
          "name": "stdout"
        }
      ]
    },
    {
      "cell_type": "code",
      "metadata": {
        "id": "QpLQMFkOCV1x",
        "colab": {
          "base_uri": "https://localhost:8080/",
          "height": 35
        },
        "outputId": "e5eecff9-a51b-47e2-d40a-de0a1296279a"
      },
      "source": [
        "cal = A.sum(axis=0) #아래 방향으로 더함\n",
        "print(cal)"
      ],
      "execution_count": null,
      "outputs": [
        {
          "output_type": "stream",
          "text": [
            "[ 59.  239.  155.   76.9]\n"
          ],
          "name": "stdout"
        }
      ]
    },
    {
      "cell_type": "code",
      "metadata": {
        "id": "eCTrcZppCdlB",
        "colab": {
          "base_uri": "https://localhost:8080/",
          "height": 71
        },
        "outputId": "ea8de060-2fc0-466d-b748-0f4d08c5adaf"
      },
      "source": [
        "percentage = 100* A / cal # reshape(1,4)\n",
        "print(percentage)"
      ],
      "execution_count": null,
      "outputs": [
        {
          "output_type": "stream",
          "text": [
            "[[94.91525424  0.          2.58064516 88.42652796]\n",
            " [ 2.03389831 43.51464435 33.5483871  10.40312094]\n",
            " [ 3.05084746 56.48535565 63.87096774  1.17035111]]\n"
          ],
          "name": "stdout"
        }
      ]
    },
    {
      "cell_type": "markdown",
      "metadata": {
        "id": "-YtAWl9xC7yn"
      },
      "source": [
        "#Stack"
      ]
    },
    {
      "cell_type": "code",
      "metadata": {
        "id": "Ux_WzVFlC2Qp"
      },
      "source": [
        "a = np.array([1,2,3,4])\n",
        "b = np.array([5,6,7,8])"
      ],
      "execution_count": null,
      "outputs": []
    },
    {
      "cell_type": "markdown",
      "metadata": {
        "id": "QRy8J3SoDFiz"
      },
      "source": [
        "\n",
        "\n",
        "*   세로로 쌓기\n",
        "\n"
      ]
    },
    {
      "cell_type": "code",
      "metadata": {
        "id": "3OggCoGPDE-d",
        "colab": {
          "base_uri": "https://localhost:8080/",
          "height": 53
        },
        "outputId": "617693de-b724-48b5-f2df-9dfe5787ba4e"
      },
      "source": [
        "c = np.vstack((a,b)) #세로\n",
        "print(c)"
      ],
      "execution_count": null,
      "outputs": [
        {
          "output_type": "stream",
          "text": [
            "[[1 2 3 4]\n",
            " [5 6 7 8]]\n"
          ],
          "name": "stdout"
        }
      ]
    },
    {
      "cell_type": "code",
      "metadata": {
        "id": "C2VDHFXZDQQ_",
        "colab": {
          "base_uri": "https://localhost:8080/",
          "height": 35
        },
        "outputId": "6e2ba299-51f7-4752-bd4d-8a9d19da2660"
      },
      "source": [
        "print(c.shape) # 2차원 데이터의 2*4 크기"
      ],
      "execution_count": null,
      "outputs": [
        {
          "output_type": "stream",
          "text": [
            "(2, 4)\n"
          ],
          "name": "stdout"
        }
      ]
    },
    {
      "cell_type": "markdown",
      "metadata": {
        "id": "OevlQHL8DYnH"
      },
      "source": [
        "\n",
        "\n",
        "*   가로로 쌓기\n"
      ]
    },
    {
      "cell_type": "code",
      "metadata": {
        "id": "yidDefNuDSKI",
        "colab": {
          "base_uri": "https://localhost:8080/",
          "height": 35
        },
        "outputId": "0c3f16d6-dc95-4d4d-89de-fe47832e3d0f"
      },
      "source": [
        "d = np.hstack((a,b)) #가로\n",
        "print(d)"
      ],
      "execution_count": null,
      "outputs": [
        {
          "output_type": "stream",
          "text": [
            "[1 2 3 4 5 6 7 8]\n"
          ],
          "name": "stdout"
        }
      ]
    },
    {
      "cell_type": "code",
      "metadata": {
        "id": "nNl-CQj2Dg8T",
        "colab": {
          "base_uri": "https://localhost:8080/",
          "height": 35
        },
        "outputId": "1134cb67-621a-403d-a813-34c3b780e7db"
      },
      "source": [
        "print(d.shape) #1차원 데이터의 8 크기"
      ],
      "execution_count": null,
      "outputs": [
        {
          "output_type": "stream",
          "text": [
            "(8,)\n"
          ],
          "name": "stdout"
        }
      ]
    },
    {
      "cell_type": "markdown",
      "metadata": {
        "id": "2tiioBAKDtu4"
      },
      "source": [
        "#형변환"
      ]
    },
    {
      "cell_type": "code",
      "metadata": {
        "id": "m9c5VXm-Dn_W",
        "colab": {
          "base_uri": "https://localhost:8080/",
          "height": 35
        },
        "outputId": "5df6c00b-7fa5-4b1b-b843-57fa230cfd9d"
      },
      "source": [
        "x = np.array([-2.0, 1.2, 3.7])\n",
        "y = x > 0 #y값은 x값이 0보다 커야됨\n",
        "print(y)"
      ],
      "execution_count": null,
      "outputs": [
        {
          "output_type": "stream",
          "text": [
            "[False  True  True]\n"
          ],
          "name": "stdout"
        }
      ]
    },
    {
      "cell_type": "code",
      "metadata": {
        "id": "MZR44Km6D5Zc",
        "colab": {
          "base_uri": "https://localhost:8080/",
          "height": 35
        },
        "outputId": "1f08ed2a-0716-4f29-80e9-c03eae230ec1"
      },
      "source": [
        "y = y.astype(np.int) #y값을 정수로 변환/참,거짓 - boolean(bool)\n",
        "print(y)"
      ],
      "execution_count": null,
      "outputs": [
        {
          "output_type": "stream",
          "text": [
            "[0 1 1]\n"
          ],
          "name": "stdout"
        }
      ]
    },
    {
      "cell_type": "markdown",
      "metadata": {
        "id": "1IzyjLD4EV6P"
      },
      "source": [
        "#Noise"
      ]
    },
    {
      "cell_type": "code",
      "metadata": {
        "id": "xQa5voqoEKnF"
      },
      "source": [
        "x = np.arange(0, 6, 0.1) #0에서 6까지 0.1 간격으로 \n",
        "y = np.sin(x)"
      ],
      "execution_count": null,
      "outputs": []
    },
    {
      "cell_type": "code",
      "metadata": {
        "id": "9560YtXMEtLv",
        "colab": {
          "base_uri": "https://localhost:8080/",
          "height": 233
        },
        "outputId": "c91bfeb5-93a5-47b4-e06e-95802e5e556a"
      },
      "source": [
        "y"
      ],
      "execution_count": null,
      "outputs": [
        {
          "output_type": "execute_result",
          "data": {
            "text/plain": [
              "array([ 0.        ,  0.09983342,  0.19866933,  0.29552021,  0.38941834,\n",
              "        0.47942554,  0.56464247,  0.64421769,  0.71735609,  0.78332691,\n",
              "        0.84147098,  0.89120736,  0.93203909,  0.96355819,  0.98544973,\n",
              "        0.99749499,  0.9995736 ,  0.99166481,  0.97384763,  0.94630009,\n",
              "        0.90929743,  0.86320937,  0.8084964 ,  0.74570521,  0.67546318,\n",
              "        0.59847214,  0.51550137,  0.42737988,  0.33498815,  0.23924933,\n",
              "        0.14112001,  0.04158066, -0.05837414, -0.15774569, -0.2555411 ,\n",
              "       -0.35078323, -0.44252044, -0.52983614, -0.61185789, -0.68776616,\n",
              "       -0.7568025 , -0.81827711, -0.87157577, -0.91616594, -0.95160207,\n",
              "       -0.97753012, -0.993691  , -0.99992326, -0.99616461, -0.98245261,\n",
              "       -0.95892427, -0.92581468, -0.88345466, -0.83226744, -0.77276449,\n",
              "       -0.70554033, -0.63126664, -0.55068554, -0.46460218, -0.37387666])"
            ]
          },
          "metadata": {
            "tags": []
          },
          "execution_count": 28
        }
      ]
    },
    {
      "cell_type": "code",
      "metadata": {
        "id": "XhwvQFaSEuTu",
        "colab": {
          "base_uri": "https://localhost:8080/",
          "height": 35
        },
        "outputId": "06c29775-17f6-48b2-ab2e-8c01b72ce8ce"
      },
      "source": [
        "signal_length = y.shape[0]\n",
        "print(signal_length)"
      ],
      "execution_count": null,
      "outputs": [
        {
          "output_type": "stream",
          "text": [
            "60\n"
          ],
          "name": "stdout"
        }
      ]
    },
    {
      "cell_type": "code",
      "metadata": {
        "id": "tHBLx_SdFcrO"
      },
      "source": [
        "noise = np.random.normal(0, 1, signal_length) #normal 정규 분포/평균이 0이고 표준편차가 1인\n",
        "y2 = y + 0.2* noise"
      ],
      "execution_count": null,
      "outputs": []
    },
    {
      "cell_type": "code",
      "metadata": {
        "id": "CGwizxxmFz39",
        "colab": {
          "base_uri": "https://localhost:8080/",
          "height": 283
        },
        "outputId": "e5cf5e0b-dade-4eeb-f673-d0de38b1b18a"
      },
      "source": [
        "plt.plot(x, y) #파랑색 선\n",
        "plt.plot(x, y2) #주황색 선\n",
        "#plt.show()"
      ],
      "execution_count": null,
      "outputs": [
        {
          "output_type": "execute_result",
          "data": {
            "text/plain": [
              "[<matplotlib.lines.Line2D at 0x7fc5f5784b38>]"
            ]
          },
          "metadata": {
            "tags": []
          },
          "execution_count": 31
        },
        {
          "output_type": "display_data",
          "data": {
            "image/png": "[encoded data removed]",
            "text/plain": [
              "<Figure size 432x288 with 1 Axes>"
            ]
          },
          "metadata": {
            "tags": [],
            "needs_background": "light"
          }
        }
      ]
    },
    {
      "cell_type": "markdown",
      "metadata": {
        "id": "6FQw1Ov0GK3g"
      },
      "source": [
        "#배열 형태 변환"
      ]
    },
    {
      "cell_type": "code",
      "metadata": {
        "id": "s9SeF6ILF_Sw",
        "colab": {
          "base_uri": "https://localhost:8080/",
          "height": 287
        },
        "outputId": "7d243de0-8120-40bb-e798-9b54898a69f7"
      },
      "source": [
        "A = np.random.rand(4, 3, 2) #0~1의 균일분포 표준 정규 분포 난수를 4*3*2 크기로 생성(3차원 데이터)\n",
        "print(A)"
      ],
      "execution_count": null,
      "outputs": [
        {
          "output_type": "stream",
          "text": [
            "[[[0.65203131 0.46210604]\n",
            "  [0.65530161 0.48104746]\n",
            "  [0.20553408 0.31433321]]\n",
            "\n",
            " [[0.0021858  0.60203188]\n",
            "  [0.08012779 0.88505549]\n",
            "  [0.40704767 0.129951  ]]\n",
            "\n",
            " [[0.43440689 0.11640705]\n",
            "  [0.99703061 0.03507522]\n",
            "  [0.42221226 0.63994917]]\n",
            "\n",
            " [[0.48403063 0.71625285]\n",
            "  [0.55467312 0.88588783]\n",
            "  [0.6089869  0.26140216]]]\n"
          ],
          "name": "stdout"
        }
      ]
    },
    {
      "cell_type": "code",
      "metadata": {
        "id": "ZD5XeuykGxbv",
        "colab": {
          "base_uri": "https://localhost:8080/",
          "height": 233
        },
        "outputId": "446188ec-c8dc-40b0-eb95-07851041e47f"
      },
      "source": [
        "A = A.reshape(12, 2) #3차원 데이터 4*3*2크기를 가진 것을 2차원 데이터 12*2크기로 변환\n",
        "print(A)"
      ],
      "execution_count": null,
      "outputs": [
        {
          "output_type": "stream",
          "text": [
            "[[0.65203131 0.46210604]\n",
            " [0.65530161 0.48104746]\n",
            " [0.20553408 0.31433321]\n",
            " [0.0021858  0.60203188]\n",
            " [0.08012779 0.88505549]\n",
            " [0.40704767 0.129951  ]\n",
            " [0.43440689 0.11640705]\n",
            " [0.99703061 0.03507522]\n",
            " [0.42221226 0.63994917]\n",
            " [0.48403063 0.71625285]\n",
            " [0.55467312 0.88588783]\n",
            " [0.6089869  0.26140216]]\n"
          ],
          "name": "stdout"
        }
      ]
    },
    {
      "cell_type": "markdown",
      "metadata": {
        "id": "AOo-z23lHLRD"
      },
      "source": [
        "#1차원 변환 ravel() vs. reshape() vs. flatten()\n",
        "\n",
        "다차원 배열을 1차원으로 바꿈"
      ]
    },
    {
      "cell_type": "code",
      "metadata": {
        "id": "uDnBclpbHF_z",
        "colab": {
          "base_uri": "https://localhost:8080/",
          "height": 35
        },
        "outputId": "0ebb5159-7ba8-413e-f36f-b1076206e2b7"
      },
      "source": [
        "B = A.ravel()\n",
        "print(B.shape)"
      ],
      "execution_count": null,
      "outputs": [
        {
          "output_type": "stream",
          "text": [
            "(24,)\n"
          ],
          "name": "stdout"
        }
      ]
    },
    {
      "cell_type": "code",
      "metadata": {
        "id": "7ouOXpblHqcI",
        "colab": {
          "base_uri": "https://localhost:8080/",
          "height": 35
        },
        "outputId": "e9aca2b6-ca61-4cb8-9f79-9e29c364bad9"
      },
      "source": [
        "C = A.flatten()\n",
        "print(C.shape)"
      ],
      "execution_count": null,
      "outputs": [
        {
          "output_type": "stream",
          "text": [
            "(24,)\n"
          ],
          "name": "stdout"
        }
      ]
    },
    {
      "cell_type": "markdown",
      "metadata": {
        "id": "s05Laum3H5fO"
      },
      "source": [
        "reshape을 이용한 구현"
      ]
    },
    {
      "cell_type": "code",
      "metadata": {
        "id": "tW5LbRWnImhF",
        "colab": {
          "base_uri": "https://localhost:8080/",
          "height": 251
        },
        "outputId": "b361be8e-5192-4219-a355-342195d2fde9"
      },
      "source": [
        "B = A.reshape(2, 6, 2)\n",
        "print(B)"
      ],
      "execution_count": null,
      "outputs": [
        {
          "output_type": "stream",
          "text": [
            "[[[0.65203131 0.46210604]\n",
            "  [0.65530161 0.48104746]\n",
            "  [0.20553408 0.31433321]\n",
            "  [0.0021858  0.60203188]\n",
            "  [0.08012779 0.88505549]\n",
            "  [0.40704767 0.129951  ]]\n",
            "\n",
            " [[0.43440689 0.11640705]\n",
            "  [0.99703061 0.03507522]\n",
            "  [0.42221226 0.63994917]\n",
            "  [0.48403063 0.71625285]\n",
            "  [0.55467312 0.88588783]\n",
            "  [0.6089869  0.26140216]]]\n"
          ],
          "name": "stdout"
        }
      ]
    },
    {
      "cell_type": "code",
      "metadata": {
        "id": "jcfH_616I1KW",
        "colab": {
          "base_uri": "https://localhost:8080/",
          "height": 161
        },
        "outputId": "1690eded-0721-47f3-b786-925d7bf01ac1"
      },
      "source": [
        "C = A.reshape(8, 3)\n",
        "print(C)"
      ],
      "execution_count": null,
      "outputs": [
        {
          "output_type": "stream",
          "text": [
            "[[0.65203131 0.46210604 0.65530161]\n",
            " [0.48104746 0.20553408 0.31433321]\n",
            " [0.0021858  0.60203188 0.08012779]\n",
            " [0.88505549 0.40704767 0.129951  ]\n",
            " [0.43440689 0.11640705 0.99703061]\n",
            " [0.03507522 0.42221226 0.63994917]\n",
            " [0.48403063 0.71625285 0.55467312]\n",
            " [0.88588783 0.6089869  0.26140216]]\n"
          ],
          "name": "stdout"
        }
      ]
    },
    {
      "cell_type": "markdown",
      "metadata": {
        "id": "Z150pjMpseey"
      },
      "source": [
        "#Random\n",
        "\n",
        "np.random.choice"
      ]
    },
    {
      "cell_type": "code",
      "metadata": {
        "id": "RICbz_Q2sisw"
      },
      "source": [
        "np.random.seed(0) #seed 속성,특성 결정\n",
        "p = np.array([0.1, 0.0, 0.7, 0.2]) #퍼센티지"
      ],
      "execution_count": null,
      "outputs": []
    },
    {
      "cell_type": "code",
      "metadata": {
        "id": "fbbFYslOstgn",
        "colab": {
          "base_uri": "https://localhost:8080/",
          "height": 197
        },
        "outputId": "a0b77c26-922c-4d45-c4c2-df3a8aca1368"
      },
      "source": [
        "for i in range(10):\n",
        "  index = np.random.choice([0, 1, 2, 3], p = p.ravel()) #확률에 맞게 랜덤으로 숫자를 뽑음\n",
        "  print(i, '-----', index)"
      ],
      "execution_count": null,
      "outputs": [
        {
          "output_type": "stream",
          "text": [
            "0 ----- 2\n",
            "1 ----- 2\n",
            "2 ----- 2\n",
            "3 ----- 3\n",
            "4 ----- 0\n",
            "5 ----- 0\n",
            "6 ----- 0\n",
            "7 ----- 3\n",
            "8 ----- 2\n",
            "9 ----- 3\n"
          ],
          "name": "stdout"
        }
      ]
    },
    {
      "cell_type": "markdown",
      "metadata": {
        "id": "SRrY8CnFtZSq"
      },
      "source": [
        "This means that you will pick the index according to the distribution:\n",
        "\n",
        "𝑃(𝑖𝑛𝑑𝑒𝑥 = 0) = 0.1, 𝑃(𝑖𝑛𝑑𝑒𝑥 = 1) = 0.0, 𝑃(𝑖𝑛𝑑𝑒𝑥 = 2) = 0.7, 𝑃(𝑖𝑛𝑑𝑒𝑥 = 3) = 0.2"
      ]
    },
    {
      "cell_type": "code",
      "metadata": {
        "id": "KJ-1i66GtGSu"
      },
      "source": [
        "v =[0,0,0,0]\n",
        "ntest = 1000\n",
        "for i in range(ntest):\n",
        "  idx = np.random.choice([0, 1, 2, 3], p = p.ravel()) #모집단에서 샘플링\n",
        "  v[idx] += 1"
      ],
      "execution_count": null,
      "outputs": []
    },
    {
      "cell_type": "markdown",
      "metadata": {
        "id": "pKGQ5M1it0xx"
      },
      "source": [
        "np.random.permutation"
      ]
    },
    {
      "cell_type": "code",
      "metadata": {
        "id": "PxkH5Y73tzbD",
        "colab": {
          "base_uri": "https://localhost:8080/",
          "height": 35
        },
        "outputId": "9edc6187-f31a-46e4-bd51-0905a89ddaae"
      },
      "source": [
        "m1 = np.random.permutation(5) #순열,조합\n",
        "print(m1)"
      ],
      "execution_count": null,
      "outputs": [
        {
          "output_type": "stream",
          "text": [
            "[4 3 1 0 2]\n"
          ],
          "name": "stdout"
        }
      ]
    },
    {
      "cell_type": "markdown",
      "metadata": {
        "id": "1ekcc3r-ukCA"
      },
      "source": [
        "\n",
        "\n",
        "*   array shuffle하기 (1차원)\n",
        "\n"
      ]
    },
    {
      "cell_type": "code",
      "metadata": {
        "id": "mR-DW5Dkt84r"
      },
      "source": [
        "X = np.array([10,20,30,40,50])\n",
        "shuffled_X = X[m1]"
      ],
      "execution_count": null,
      "outputs": []
    },
    {
      "cell_type": "code",
      "metadata": {
        "id": "ZfojVlAGuyab",
        "colab": {
          "base_uri": "https://localhost:8080/",
          "height": 35
        },
        "outputId": "0ce9ef59-3104-4ca0-cfdf-77f796a8274e"
      },
      "source": [
        "print(X)"
      ],
      "execution_count": null,
      "outputs": [
        {
          "output_type": "stream",
          "text": [
            "[10 20 30 40 50]\n"
          ],
          "name": "stdout"
        }
      ]
    },
    {
      "cell_type": "code",
      "metadata": {
        "id": "fQibP_H3u3xA",
        "colab": {
          "base_uri": "https://localhost:8080/",
          "height": 35
        },
        "outputId": "227ba1d7-85a1-4034-efb0-bd2d3cfaa710"
      },
      "source": [
        "print(shuffled_X)"
      ],
      "execution_count": null,
      "outputs": [
        {
          "output_type": "stream",
          "text": [
            "[50 40 20 10 30]\n"
          ],
          "name": "stdout"
        }
      ]
    },
    {
      "cell_type": "markdown",
      "metadata": {
        "id": "eBL0oOc1vBA2"
      },
      "source": [
        "\n",
        "\n",
        "*   array shuffle하기 (2차원)\n",
        "\n"
      ]
    },
    {
      "cell_type": "code",
      "metadata": {
        "id": "J96IMqVcu5uU"
      },
      "source": [
        "x1 = [2, 4, 8, 10, 20]\n",
        "x2 = [0.2, 0.4, -0.8, 1.0, -2.0]\n",
        "X = np.transpose(np.vstack((x1, x2))) #transpose v를 h로, h를 v로"
      ],
      "execution_count": null,
      "outputs": []
    },
    {
      "cell_type": "code",
      "metadata": {
        "id": "KjxpkeyUvkh2",
        "colab": {
          "base_uri": "https://localhost:8080/",
          "height": 107
        },
        "outputId": "cf525014-2a4a-4709-fee5-54035114eef9"
      },
      "source": [
        "print(X)"
      ],
      "execution_count": null,
      "outputs": [
        {
          "output_type": "stream",
          "text": [
            "[[ 2.   0.2]\n",
            " [ 4.   0.4]\n",
            " [ 8.  -0.8]\n",
            " [10.   1. ]\n",
            " [20.  -2. ]]\n"
          ],
          "name": "stdout"
        }
      ]
    },
    {
      "cell_type": "code",
      "metadata": {
        "id": "KKMzC5XkvnaS",
        "colab": {
          "base_uri": "https://localhost:8080/",
          "height": 35
        },
        "outputId": "3ea8e19c-eadc-4312-8eb3-2172f1eac0fe"
      },
      "source": [
        "print(X.shape)"
      ],
      "execution_count": null,
      "outputs": [
        {
          "output_type": "stream",
          "text": [
            "(5, 2)\n"
          ],
          "name": "stdout"
        }
      ]
    },
    {
      "cell_type": "code",
      "metadata": {
        "id": "MA0DEERavpcg"
      },
      "source": [
        "permutation = np.random.permutation(5)"
      ],
      "execution_count": null,
      "outputs": []
    },
    {
      "cell_type": "code",
      "metadata": {
        "id": "B6M0xXievu-k"
      },
      "source": [
        "X_shuffle= X[permutation]"
      ],
      "execution_count": null,
      "outputs": []
    },
    {
      "cell_type": "code",
      "metadata": {
        "id": "j8XYQbFsvzwZ",
        "colab": {
          "base_uri": "https://localhost:8080/",
          "height": 107
        },
        "outputId": "64b0c0e9-91f7-43c5-d743-632d816bbb3f"
      },
      "source": [
        "print(X_shuffle)"
      ],
      "execution_count": null,
      "outputs": [
        {
          "output_type": "stream",
          "text": [
            "[[10.   1. ]\n",
            " [ 8.  -0.8]\n",
            " [ 4.   0.4]\n",
            " [20.  -2. ]\n",
            " [ 2.   0.2]]\n"
          ],
          "name": "stdout"
        }
      ]
    },
    {
      "cell_type": "code",
      "metadata": {
        "id": "dSWPBXsyv2mZ"
      },
      "source": [
        ""
      ],
      "execution_count": null,
      "outputs": []
    }
  ]
}