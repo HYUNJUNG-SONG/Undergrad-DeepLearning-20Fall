{
  "nbformat": 4,
  "nbformat_minor": 0,
  "metadata": {
    "colab": {
      "name": "02_Softmax.ipynb",
      "provenance": [],
      "collapsed_sections": []
    },
    "kernelspec": {
      "name": "python3",
      "display_name": "Python 3"
    }
  },
  "cells": [
    {
      "cell_type": "code",
      "metadata": {
        "id": "mphK770kbxW9"
      },
      "source": [
        "import numpy as np"
      ],
      "execution_count": 1,
      "outputs": []
    },
    {
      "cell_type": "markdown",
      "metadata": {
        "id": "yW2-UMEpb2zX"
      },
      "source": [
        "아래를 신경망 출력이라 가정"
      ]
    },
    {
      "cell_type": "code",
      "metadata": {
        "id": "qml9Hv8Db16h"
      },
      "source": [
        "a = np.array([0.3, 0.9, 5.0])"
      ],
      "execution_count": 2,
      "outputs": []
    },
    {
      "cell_type": "markdown",
      "metadata": {
        "id": "lyzk5xBgb671"
      },
      "source": [
        "이 숫자를 어떻게 해석?"
      ]
    },
    {
      "cell_type": "code",
      "metadata": {
        "id": "0t5Y4naob4IH"
      },
      "source": [
        "a = np.array([0.3, -0.9, 5.0])"
      ],
      "execution_count": 3,
      "outputs": []
    },
    {
      "cell_type": "markdown",
      "metadata": {
        "id": "v9wTwgZkb7fp"
      },
      "source": [
        "또한 위처럼 - 부호를 가질 수도 있음.\n",
        "\n",
        "분류 (classification) 문제의 경우 가장 큰 값을 선택하면 되기는 하지만...\n",
        "\n",
        "즉, 위의 경우 class 가 2. 숫자를 해석하기가 애매함\n",
        "\n",
        "Motivation: 위의 값을 확률처럼 해석하면 좋을텐데 ?!"
      ]
    },
    {
      "cell_type": "markdown",
      "metadata": {
        "id": "lFbciX5pb9ex"
      },
      "source": [
        "Softmax의 등장"
      ]
    },
    {
      "cell_type": "code",
      "metadata": {
        "colab": {
          "base_uri": "https://localhost:8080/"
        },
        "id": "nHaaYyCUb5h7",
        "outputId": "1ca8ff22-06c7-4f7d-adda-5b645825dfed"
      },
      "source": [
        "a"
      ],
      "execution_count": 4,
      "outputs": [
        {
          "output_type": "execute_result",
          "data": {
            "text/plain": [
              "array([ 0.3, -0.9,  5. ])"
            ]
          },
          "metadata": {
            "tags": []
          },
          "execution_count": 4
        }
      ]
    },
    {
      "cell_type": "code",
      "metadata": {
        "id": "doM5E0cnb-sJ"
      },
      "source": [
        "def softmax(a):\n",
        "    exp_a = np.exp(a)\n",
        "    sum_exp_a = np.sum(exp_a)\n",
        "    y = exp_a / sum_exp_a\n",
        "    return y"
      ],
      "execution_count": 5,
      "outputs": []
    },
    {
      "cell_type": "code",
      "metadata": {
        "id": "aOksTR2OcAfn"
      },
      "source": [
        "y = softmax(a)"
      ],
      "execution_count": 6,
      "outputs": []
    },
    {
      "cell_type": "code",
      "metadata": {
        "colab": {
          "base_uri": "https://localhost:8080/"
        },
        "id": "GeDrCpmCcBff",
        "outputId": "0c06ad37-60ab-4cb2-929e-cac80d07f080"
      },
      "source": [
        "print(y)"
      ],
      "execution_count": 7,
      "outputs": [
        {
          "output_type": "stream",
          "text": [
            "[0.0089889 0.0027074 0.9883037]\n"
          ],
          "name": "stdout"
        }
      ]
    },
    {
      "cell_type": "code",
      "metadata": {
        "colab": {
          "base_uri": "https://localhost:8080/"
        },
        "id": "k41pyuckcCdx",
        "outputId": "1db8b5ad-604e-48af-f02f-f66051aaf6ee"
      },
      "source": [
        "np.sum(y)"
      ],
      "execution_count": 8,
      "outputs": [
        {
          "output_type": "execute_result",
          "data": {
            "text/plain": [
              "1.0"
            ]
          },
          "metadata": {
            "tags": []
          },
          "execution_count": 8
        }
      ]
    },
    {
      "cell_type": "markdown",
      "metadata": {
        "id": "nCYQRpXzcExM"
      },
      "source": [
        "확률처럼 더하면 1이 되고, 모두가 양수로 변환되었음을 확인 !\n",
        "\n",
        "Numerically stable Softmax\n",
        "\n",
        "위의 softmax() 함수는 완벽하지만 컴퓨터로 계산할 때 결함이 있을 수 있음.\n",
        "\n",
        "softmax()에 사용되는 지수함수 exp()는 넣는 값이 조금만 커져도 아주 큰 값을 뱉어줌.\n",
        "\n",
        "컴퓨터는 표현할 수 있는 수의 범위가 한정 되므로 이 문제를 개선한 안전한 softmax() 함수를 만들어 보자."
      ]
    },
    {
      "cell_type": "code",
      "metadata": {
        "id": "x7z0DEY4cDgQ"
      },
      "source": [
        "a = np.array([1010, 1000, 990]) #큰 수 준비"
      ],
      "execution_count": 9,
      "outputs": []
    },
    {
      "cell_type": "code",
      "metadata": {
        "colab": {
          "base_uri": "https://localhost:8080/"
        },
        "id": "UIWz6XvscKRc",
        "outputId": "2d074ae5-1068-4ea4-da21-3ddd2e752093"
      },
      "source": [
        "y = softmax(a)"
      ],
      "execution_count": 10,
      "outputs": [
        {
          "output_type": "stream",
          "text": [
            "/usr/local/lib/python3.6/dist-packages/ipykernel_launcher.py:2: RuntimeWarning: overflow encountered in exp\n",
            "  \n",
            "/usr/local/lib/python3.6/dist-packages/ipykernel_launcher.py:4: RuntimeWarning: invalid value encountered in true_divide\n",
            "  after removing the cwd from sys.path.\n"
          ],
          "name": "stderr"
        }
      ]
    },
    {
      "cell_type": "code",
      "metadata": {
        "colab": {
          "base_uri": "https://localhost:8080/"
        },
        "id": "ieViS-lVcKiO",
        "outputId": "b260cd6a-0aca-416e-e474-d58b7291975b"
      },
      "source": [
        "print(y)  #제대로 계산되지 않음."
      ],
      "execution_count": 11,
      "outputs": [
        {
          "output_type": "stream",
          "text": [
            "[nan nan nan]\n"
          ],
          "name": "stdout"
        }
      ]
    },
    {
      "cell_type": "code",
      "metadata": {
        "id": "jtpQT6KfcL-3"
      },
      "source": [
        "def stable_softmax(a):\n",
        "    c = np.max(a)\n",
        "    exp_a = np.exp(a-c)   #개선\n",
        "    sum_exp_a = sum(np.exp(a-c))\n",
        "    y = exp_a/sum_exp_a\n",
        "    return y"
      ],
      "execution_count": 12,
      "outputs": []
    },
    {
      "cell_type": "code",
      "metadata": {
        "id": "71GzP7DscNOv"
      },
      "source": [
        "y = stable_softmax(a)"
      ],
      "execution_count": 13,
      "outputs": []
    },
    {
      "cell_type": "code",
      "metadata": {
        "colab": {
          "base_uri": "https://localhost:8080/"
        },
        "id": "m2HdGz9icPWS",
        "outputId": "73ea9aad-a851-408a-c599-f750932526f3"
      },
      "source": [
        "print(y)"
      ],
      "execution_count": 14,
      "outputs": [
        {
          "output_type": "stream",
          "text": [
            "[9.99954600e-01 4.53978686e-05 2.06106005e-09]\n"
          ],
          "name": "stdout"
        }
      ]
    },
    {
      "cell_type": "code",
      "metadata": {
        "colab": {
          "base_uri": "https://localhost:8080/"
        },
        "id": "GbmX9vzfcPq1",
        "outputId": "4d180d14-9787-4a91-8dee-63de91d9f255"
      },
      "source": [
        "np.sum(y)   # 마찬가지로 더하면 1을 출력!"
      ],
      "execution_count": 15,
      "outputs": [
        {
          "output_type": "execute_result",
          "data": {
            "text/plain": [
              "1.0"
            ]
          },
          "metadata": {
            "tags": []
          },
          "execution_count": 15
        }
      ]
    },
    {
      "cell_type": "code",
      "metadata": {
        "id": "2Q2cAHJYcQz3"
      },
      "source": [
        ""
      ],
      "execution_count": null,
      "outputs": []
    }
  ]
}