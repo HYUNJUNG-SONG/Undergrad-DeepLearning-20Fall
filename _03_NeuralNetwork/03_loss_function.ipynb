{
  "nbformat": 4,
  "nbformat_minor": 0,
  "metadata": {
    "colab": {
      "name": "03_loss_function.ipynb",
      "provenance": [],
      "collapsed_sections": []
    },
    "kernelspec": {
      "name": "python3",
      "display_name": "Python 3"
    }
  },
  "cells": [
    {
      "cell_type": "code",
      "metadata": {
        "id": "3O6C3aJQcew_"
      },
      "source": [
        "import numpy as np"
      ],
      "execution_count": 1,
      "outputs": []
    },
    {
      "cell_type": "markdown",
      "metadata": {
        "id": "7a0bQtFpciE2"
      },
      "source": [
        "Mean Square Error (MSE)"
      ]
    },
    {
      "cell_type": "code",
      "metadata": {
        "id": "8uEfoGV9ckLo"
      },
      "source": [
        "def MSE(y, t):\n",
        "    loss = 0.5 * np.sum((y-t)**2)\n",
        "    return loss"
      ],
      "execution_count": 2,
      "outputs": []
    },
    {
      "cell_type": "code",
      "metadata": {
        "id": "o_r-K72DclTq"
      },
      "source": [
        "t = [ 0, 0, 1, 0, 0, 0, 0, 0, 0, 0]\n",
        "\n",
        "y1 = [0.2, 0.01, 0.5, 0.0, 0.02, 0.01, 0.0, 0.15, 0.1, 0.02]\n",
        "y2 = [0.2, 0.01, 0.0, 0.5, 0.02, 0.01, 0.0, 0.15, 0.1, 0.02]"
      ],
      "execution_count": 3,
      "outputs": []
    },
    {
      "cell_type": "code",
      "metadata": {
        "id": "5PekoIC4cnhb"
      },
      "source": [
        "loss1 = MSE(np.array(t), np.array(y1))\n",
        "loss2 = MSE(np.array(t), np.array(y2))"
      ],
      "execution_count": 4,
      "outputs": []
    },
    {
      "cell_type": "code",
      "metadata": {
        "colab": {
          "base_uri": "https://localhost:8080/"
        },
        "id": "QnVUkbn9coko",
        "outputId": "ee595871-ae82-4d25-d5d9-2ae8b4455540"
      },
      "source": [
        "print(loss1)\n",
        "print(loss2)"
      ],
      "execution_count": 5,
      "outputs": [
        {
          "output_type": "stream",
          "text": [
            "0.16175000000000003\n",
            "0.66175\n"
          ],
          "name": "stdout"
        }
      ]
    },
    {
      "cell_type": "markdown",
      "metadata": {
        "id": "sInk_YCOcpBh"
      },
      "source": [
        "교차 엔트로피 오차: Cross Entropy Error\n",
        "$$ loss =  - \\Sigma t * log(y) $$"
      ]
    },
    {
      "cell_type": "code",
      "metadata": {
        "id": "57nRNhg2crmk"
      },
      "source": [
        "def CEE(y, t):\n",
        "    epsilon = 0.00000001\n",
        "    v_temp = t * np.log(y + epsilon)\n",
        "    loss = -np.sum(v_temp)\n",
        "    return loss"
      ],
      "execution_count": 6,
      "outputs": []
    },
    {
      "cell_type": "code",
      "metadata": {
        "colab": {
          "base_uri": "https://localhost:8080/"
        },
        "id": "l8rHq-uscss2",
        "outputId": "2e32b538-6ad5-49cc-c8ab-dfed142cffbd"
      },
      "source": [
        "l1 = CEE(np.array(t), np.array(y1))\n",
        "print(l1)"
      ],
      "execution_count": 7,
      "outputs": [
        {
          "output_type": "stream",
          "text": [
            "9.394547174415708\n"
          ],
          "name": "stdout"
        }
      ]
    },
    {
      "cell_type": "code",
      "metadata": {
        "colab": {
          "base_uri": "https://localhost:8080/"
        },
        "id": "WI7MmnppctxL",
        "outputId": "45af7f62-cd1b-4b29-c0e6-3393d55c0d21"
      },
      "source": [
        "l2 = CEE(np.array(t), np.array(y2))\n",
        "print(l2)"
      ],
      "execution_count": 8,
      "outputs": [
        {
          "output_type": "stream",
          "text": [
            "18.60488755139189\n"
          ],
          "name": "stdout"
        }
      ]
    },
    {
      "cell_type": "code",
      "metadata": {
        "id": "cS8WDL2LcutI"
      },
      "source": [
        "t  = [ 0, 1]\n",
        "\n",
        "y1 = [ 0.2, 0.8]\n",
        "y2 = [ 0.8, 0.2]\n",
        "y3 = [ 0.1, 0.9]"
      ],
      "execution_count": 9,
      "outputs": []
    },
    {
      "cell_type": "markdown",
      "metadata": {
        "id": "g00SmUmqc1u4"
      },
      "source": [
        "TODO: 아래처럼 loss를 출력해보세요"
      ]
    },
    {
      "cell_type": "code",
      "metadata": {
        "id": "oh1cYhQ1c0zb"
      },
      "source": [
        "### START CODE HERE ###\n",
        "        \n",
        "    \n",
        "    \n",
        "### END CODE HERE ###"
      ],
      "execution_count": 10,
      "outputs": []
    },
    {
      "cell_type": "markdown",
      "metadata": {
        "id": "LlRtrLF4c4oO"
      },
      "source": [
        "Expected Output:\n",
        "\n",
        "loss1 = 3.684136140790474\n",
        "\n",
        "loss2 = 14.736544593161895\n",
        "\n",
        "loss3 = 1.842068065395237"
      ]
    },
    {
      "cell_type": "code",
      "metadata": {
        "id": "g8O-gEj4c3l4"
      },
      "source": [
        ""
      ],
      "execution_count": null,
      "outputs": []
    }
  ]
}