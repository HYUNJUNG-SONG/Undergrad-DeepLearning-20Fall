{
  "nbformat": 4,
  "nbformat_minor": 0,
  "metadata": {
    "colab": {
      "name": "01_1_NeuralNetwork_basic.ipynb",
      "provenance": [],
      "collapsed_sections": []
    },
    "kernelspec": {
      "name": "python3",
      "display_name": "Python 3"
    }
  },
  "cells": [
    {
      "cell_type": "code",
      "metadata": {
        "id": "H9AA0IPSXJIl"
      },
      "source": [
        "import numpy as np"
      ],
      "execution_count": 1,
      "outputs": []
    },
    {
      "cell_type": "markdown",
      "metadata": {
        "id": "50rLYtRHXOvl"
      },
      "source": [
        "간단한 Forward 연산 해보기\n",
        "\n",
        "bias는 일단 무시하고 진행\n",
        "\n",
        "입력 층 (input layer)"
      ]
    },
    {
      "cell_type": "code",
      "metadata": {
        "id": "vtckN8zmXOZj"
      },
      "source": [
        "X = np.array([1.0, 0.5])"
      ],
      "execution_count": 2,
      "outputs": []
    },
    {
      "cell_type": "code",
      "metadata": {
        "colab": {
          "base_uri": "https://localhost:8080/"
        },
        "id": "m_S97DuhXSIC",
        "outputId": "22a266ff-5174-460e-f860-cb00037cef7b"
      },
      "source": [
        "X.shape"
      ],
      "execution_count": 3,
      "outputs": [
        {
          "output_type": "execute_result",
          "data": {
            "text/plain": [
              "(2,)"
            ]
          },
          "metadata": {
            "tags": []
          },
          "execution_count": 3
        }
      ]
    },
    {
      "cell_type": "code",
      "metadata": {
        "colab": {
          "base_uri": "https://localhost:8080/"
        },
        "id": "-1xwE7AIXUkU",
        "outputId": "67738a55-7e35-4c78-dc57-cc087da276b2"
      },
      "source": [
        "X"
      ],
      "execution_count": 4,
      "outputs": [
        {
          "output_type": "execute_result",
          "data": {
            "text/plain": [
              "array([1. , 0.5])"
            ]
          },
          "metadata": {
            "tags": []
          },
          "execution_count": 4
        }
      ]
    },
    {
      "cell_type": "markdown",
      "metadata": {
        "id": "26EBsyZWXWji"
      },
      "source": [
        "입력의 2개가 다음 layer에 있는 3개와 연결\n"
      ]
    },
    {
      "cell_type": "code",
      "metadata": {
        "id": "4IDKxg-HXVlq"
      },
      "source": [
        "W1 = np.array([[0.1, 0.3, 0.5], [0.2, 0.4, 0.6]])"
      ],
      "execution_count": 5,
      "outputs": []
    },
    {
      "cell_type": "code",
      "metadata": {
        "colab": {
          "base_uri": "https://localhost:8080/"
        },
        "id": "XaE3MSRQXYpC",
        "outputId": "1bbbe322-99a0-43f5-9a9d-9f3acef65b88"
      },
      "source": [
        "W1.shape"
      ],
      "execution_count": 6,
      "outputs": [
        {
          "output_type": "execute_result",
          "data": {
            "text/plain": [
              "(2, 3)"
            ]
          },
          "metadata": {
            "tags": []
          },
          "execution_count": 6
        }
      ]
    },
    {
      "cell_type": "code",
      "metadata": {
        "colab": {
          "base_uri": "https://localhost:8080/"
        },
        "id": "bGT_u_DDXZyS",
        "outputId": "d865078d-e39b-4099-a032-7de1be3f30d7"
      },
      "source": [
        "W1"
      ],
      "execution_count": 7,
      "outputs": [
        {
          "output_type": "execute_result",
          "data": {
            "text/plain": [
              "array([[0.1, 0.3, 0.5],\n",
              "       [0.2, 0.4, 0.6]])"
            ]
          },
          "metadata": {
            "tags": []
          },
          "execution_count": 7
        }
      ]
    },
    {
      "cell_type": "markdown",
      "metadata": {
        "id": "IGPlsRzmXcEs"
      },
      "source": [
        "곱해보기 (dot-product)"
      ]
    },
    {
      "cell_type": "code",
      "metadata": {
        "id": "fsiL9TCNXa-g"
      },
      "source": [
        "a1 = np.dot(X, W1)"
      ],
      "execution_count": 8,
      "outputs": []
    },
    {
      "cell_type": "code",
      "metadata": {
        "colab": {
          "base_uri": "https://localhost:8080/"
        },
        "id": "fznzRvjWXd0z",
        "outputId": "7a6b2524-1534-456c-8838-c91ee8fa377d"
      },
      "source": [
        "a1.shape"
      ],
      "execution_count": 9,
      "outputs": [
        {
          "output_type": "execute_result",
          "data": {
            "text/plain": [
              "(3,)"
            ]
          },
          "metadata": {
            "tags": []
          },
          "execution_count": 9
        }
      ]
    },
    {
      "cell_type": "code",
      "metadata": {
        "colab": {
          "base_uri": "https://localhost:8080/"
        },
        "id": "iJGHeoJjXgBo",
        "outputId": "3d9d9267-9448-49bc-c69c-6b49954f6cbb"
      },
      "source": [
        "a1"
      ],
      "execution_count": 10,
      "outputs": [
        {
          "output_type": "execute_result",
          "data": {
            "text/plain": [
              "array([0.2, 0.5, 0.8])"
            ]
          },
          "metadata": {
            "tags": []
          },
          "execution_count": 10
        }
      ]
    },
    {
      "cell_type": "markdown",
      "metadata": {
        "id": "d8efUCsUXhle"
      },
      "source": [
        "Q. 다음의 결과는? 그 결과의 의미는?\n",
        "\n",
        "1.0 * 0.1 + 0.5 * 0.2"
      ]
    },
    {
      "cell_type": "code",
      "metadata": {
        "colab": {
          "base_uri": "https://localhost:8080/"
        },
        "id": "Evya8YjLXjcV",
        "outputId": "7f571a9e-a78b-49d2-b6b6-23ad3a12357d"
      },
      "source": [
        "1.0 * 0.1 + 0.5 * 0.2"
      ],
      "execution_count": 11,
      "outputs": [
        {
          "output_type": "execute_result",
          "data": {
            "text/plain": [
              "0.2"
            ]
          },
          "metadata": {
            "tags": []
          },
          "execution_count": 11
        }
      ]
    },
    {
      "cell_type": "markdown",
      "metadata": {
        "id": "1uaeB0RqXlv2"
      },
      "source": [
        "의미:\n",
        "\n",
        "간단한 Forward 연산 해보기\n",
        "\n",
        "이번에는 bias까지 고려"
      ]
    },
    {
      "cell_type": "code",
      "metadata": {
        "id": "TdIk8IjWXoLt"
      },
      "source": [
        "b1 = np.array([0.1, 0.2, 0.3])"
      ],
      "execution_count": 12,
      "outputs": []
    },
    {
      "cell_type": "code",
      "metadata": {
        "id": "eAXyaBJWXoi2"
      },
      "source": [
        "a1 = np.dot(X, W1) + b1"
      ],
      "execution_count": 13,
      "outputs": []
    },
    {
      "cell_type": "code",
      "metadata": {
        "colab": {
          "base_uri": "https://localhost:8080/"
        },
        "id": "9HZLszUgXp6E",
        "outputId": "f0c01c17-3dec-42cb-9698-d78e2a077f52"
      },
      "source": [
        "print(a1)"
      ],
      "execution_count": 14,
      "outputs": [
        {
          "output_type": "stream",
          "text": [
            "[0.3 0.7 1.1]\n"
          ],
          "name": "stdout"
        }
      ]
    },
    {
      "cell_type": "markdown",
      "metadata": {
        "id": "Ws0pQGNDXsQi"
      },
      "source": [
        "numpy 의 dot 이해하기\n",
        "\n",
        "그림 3-11. 행렬의 내적방법 참고"
      ]
    },
    {
      "cell_type": "code",
      "metadata": {
        "id": "dz6tGJAaXvov"
      },
      "source": [
        "x1 = np.array([[1, 2 ], [3, 4]])\n",
        "x2 = np.array([[5, 6 ], [7, 8]])"
      ],
      "execution_count": 15,
      "outputs": []
    },
    {
      "cell_type": "code",
      "metadata": {
        "colab": {
          "base_uri": "https://localhost:8080/"
        },
        "id": "vTe5TcQrXwuA",
        "outputId": "17c385d5-2ed0-4cf7-95b0-164114a764c4"
      },
      "source": [
        "print(x1)"
      ],
      "execution_count": 16,
      "outputs": [
        {
          "output_type": "stream",
          "text": [
            "[[1 2]\n",
            " [3 4]]\n"
          ],
          "name": "stdout"
        }
      ]
    },
    {
      "cell_type": "code",
      "metadata": {
        "colab": {
          "base_uri": "https://localhost:8080/"
        },
        "id": "Ad6SQkK_XxpM",
        "outputId": "43b97ba3-3770-4712-df57-3652c6bd0571"
      },
      "source": [
        "print(x2)"
      ],
      "execution_count": 17,
      "outputs": [
        {
          "output_type": "stream",
          "text": [
            "[[5 6]\n",
            " [7 8]]\n"
          ],
          "name": "stdout"
        }
      ]
    },
    {
      "cell_type": "code",
      "metadata": {
        "colab": {
          "base_uri": "https://localhost:8080/"
        },
        "id": "sZVT6stJXyue",
        "outputId": "dc7906ec-39d2-4fb9-82ef-ace2ee58dd51"
      },
      "source": [
        "x1.shape"
      ],
      "execution_count": 18,
      "outputs": [
        {
          "output_type": "execute_result",
          "data": {
            "text/plain": [
              "(2, 2)"
            ]
          },
          "metadata": {
            "tags": []
          },
          "execution_count": 18
        }
      ]
    },
    {
      "cell_type": "code",
      "metadata": {
        "colab": {
          "base_uri": "https://localhost:8080/"
        },
        "id": "0_9a9xs_XzoX",
        "outputId": "1adfe364-ed42-4380-f6e6-e198624a3eed"
      },
      "source": [
        "x2.shape"
      ],
      "execution_count": 19,
      "outputs": [
        {
          "output_type": "execute_result",
          "data": {
            "text/plain": [
              "(2, 2)"
            ]
          },
          "metadata": {
            "tags": []
          },
          "execution_count": 19
        }
      ]
    },
    {
      "cell_type": "code",
      "metadata": {
        "colab": {
          "base_uri": "https://localhost:8080/"
        },
        "id": "7sXjlGr8X0oK",
        "outputId": "36281a1a-4112-49e0-85f5-a0b6f0db5871"
      },
      "source": [
        "np.dot(x1, x2)"
      ],
      "execution_count": 20,
      "outputs": [
        {
          "output_type": "execute_result",
          "data": {
            "text/plain": [
              "array([[19, 22],\n",
              "       [43, 50]])"
            ]
          },
          "metadata": {
            "tags": []
          },
          "execution_count": 20
        }
      ]
    },
    {
      "cell_type": "markdown",
      "metadata": {
        "id": "YoNZE8gHX8T1"
      },
      "source": [
        "x1 변형하기"
      ]
    },
    {
      "cell_type": "code",
      "metadata": {
        "id": "5nNp-FscX5Oj"
      },
      "source": [
        "x1 = np.array([[1, 2 ]])\n",
        "x2 = np.array([[5, 6 ], [7, 8]])"
      ],
      "execution_count": 21,
      "outputs": []
    },
    {
      "cell_type": "code",
      "metadata": {
        "colab": {
          "base_uri": "https://localhost:8080/"
        },
        "id": "SZob6gLlX-Xj",
        "outputId": "1ec17e01-2e10-48fc-fa31-2c4c82fa971e"
      },
      "source": [
        "x1.shape"
      ],
      "execution_count": 22,
      "outputs": [
        {
          "output_type": "execute_result",
          "data": {
            "text/plain": [
              "(1, 2)"
            ]
          },
          "metadata": {
            "tags": []
          },
          "execution_count": 22
        }
      ]
    },
    {
      "cell_type": "code",
      "metadata": {
        "colab": {
          "base_uri": "https://localhost:8080/"
        },
        "id": "VjIOkRjOX_St",
        "outputId": "912cf337-0bc9-46e6-ce66-c74d80ca05e7"
      },
      "source": [
        "x2.shape"
      ],
      "execution_count": 23,
      "outputs": [
        {
          "output_type": "execute_result",
          "data": {
            "text/plain": [
              "(2, 2)"
            ]
          },
          "metadata": {
            "tags": []
          },
          "execution_count": 23
        }
      ]
    },
    {
      "cell_type": "code",
      "metadata": {
        "colab": {
          "base_uri": "https://localhost:8080/"
        },
        "id": "mKbiUe_vYAQ6",
        "outputId": "20bcdeaa-e79a-4419-e490-306cde07b37e"
      },
      "source": [
        "np.dot(x1, x2)"
      ],
      "execution_count": 24,
      "outputs": [
        {
          "output_type": "execute_result",
          "data": {
            "text/plain": [
              "array([[19, 22]])"
            ]
          },
          "metadata": {
            "tags": []
          },
          "execution_count": 24
        }
      ]
    },
    {
      "cell_type": "code",
      "metadata": {
        "id": "NopfVt5dYBM9"
      },
      "source": [
        ""
      ],
      "execution_count": null,
      "outputs": []
    }
  ]
}